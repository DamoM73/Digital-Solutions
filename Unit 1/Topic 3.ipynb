{
 "cells": [
  {
   "cell_type": "markdown",
   "id": "4b60bee2-a40b-43df-95e8-2eaad124455b",
   "metadata": {},
   "source": [
    "# <font color=deepskyblue>Topic 3: Algorithms and Programming Techniques</font>"
   ]
  },
  {
   "cell_type": "markdown",
   "id": "d3647082-9135-48ec-aa61-8af005958eed",
   "metadata": {},
   "source": [
    "---\n",
    "## <font color=deepskyblue>Syntax</font>\n",
    "\n",
    "- <font color=orangered>*recognise and describe programming syntax and rules*</font>\n",
    "\n",
    "<font color=green>*TLDR - *</font>"
   ]
  },
  {
   "cell_type": "markdown",
   "id": "069656f0-aa91-4592-ba49-168e9057c5f6",
   "metadata": {},
   "source": [
    "---\n",
    "## <font color=deepskyblue>Input, Output, Process</font>\n",
    "\n",
    "- <font color=orangered>*understand that simple algorithms consist of input, process and output at various stages*</font>\n",
    "\n",
    "<font color=green>*TLDR - *</font>"
   ]
  },
  {
   "cell_type": "markdown",
   "id": "25ae23d3-1ac9-4f4a-a2e8-99300c19c4ae",
   "metadata": {},
   "source": [
    "---\n",
    "## <font color=deepskyblue>Algorithms</font>\n",
    "\n",
    "- <font color=orangered>*understand and use the basic algorithm constructs - assignment, sequence, selection, condition, iteration, and modularisation*</font>\n",
    "- <font color=orangered>*explore functions and procedures with efficient and maintainable code that includes reuseable coded components*</font>\n",
    "- <font color=orangered>*explore functions and procedures with efficient and maintainable code that responds to keyboard and mouse events*</font>\n",
    "- <font color=orangered>*explore functions and procedures with efficient and maintainable code that uses variables, selection structures, counted loops, while loops and single, multi-branch and nested conditional logic/statements*</font>\n",
    "- <font color=orangered>*explore functions and procedures with efficient and maintainable code that uses operators, including arithmetic (+, –, \\*, /, integer, modulus, exponent), comparison (\\<, \\>, \\<=, \\>=, equal, not equal) and logical (AND, OR, NOT)*</font>\n",
    "- <font color=orangered>*explore the purpose of code statements by writing code and using existing code blocks or statements*</font>\n",
    "- <font color=orangered>*explore object/event triggers and develop explanations about their effect/s on user interfaces*</font>\n",
    "\n",
    "<font color=green>*TLDR - *</font>\n",
    "    \n",
    "\n",
    "### <font color=deepskyblue>Sequence</font>\n",
    "\n",
    "\n",
    "### <font color=deepskyblue>Assignment</font>\n",
    "\n",
    "\n",
    "### <font color=deepskyblue>Condition</font>\n",
    "\n",
    "\n",
    "### <font color=deepskyblue>Selection</font>\n",
    "\n",
    "\n",
    "### <font color=deepskyblue>Iteration</font>\n",
    "\n",
    "\n",
    "### <font color=deepskyblue>Modularisation</font>\n",
    "\n"
   ]
  },
  {
   "cell_type": "markdown",
   "id": "edc4c99d-ea4c-4f6f-9911-322b12fd6e71",
   "metadata": {},
   "source": [
    "---\n",
    "## <font color=deepskyblue>Pseudocode</font>\n",
    "\n",
    "- <font color=orangered>*represent algorithms using pseudocode by identifying and describing the steps and their behaviour in the algorithm*</font>\n",
    "- <font color=orangered>*represent algorithms using pseudocode by identifying and explaining the algorithmic steps required for a programmed solution*</font>\n",
    "\n",
    "<font color=green>*TLDR - *</font>"
   ]
  },
  {
   "cell_type": "markdown",
   "id": "bb8e1c70-6135-43cd-a79f-f08eab33e83d",
   "metadata": {},
   "source": [
    "---\n",
    "## <font color=deepskyblue>Symbolising Algorithms</font>\n",
    "\n",
    "- <font color=orangered>*symbolise algorithms and interrelationships with sketches and diagrams*</font>\n",
    "\n",
    "<font color=green>*TLDR - *</font>"
   ]
  },
  {
   "cell_type": "markdown",
   "id": "a4ce6354-87d4-403f-a2ed-43ba6aa436b0",
   "metadata": {},
   "source": [
    "---\n",
    "## <font color=deepskyblue>Basic Features of Programming</font>\n",
    "\n",
    "- <font color=orangered>*understand basic features of programming - variables, control structures, data structures, syntax, libraries, and classes*</font>\n",
    "\n",
    "<font color=green>*TLDR - *</font>\n",
    "\n",
    "### <font color=deepskyblue>Variables</font>\n",
    "\n",
    "\n",
    "### <font color=deepskyblue>Control Structures</font>\n",
    "\n",
    "\n",
    "### <font color=deepskyblue>Data Structures</font>\n",
    "\n",
    "\n",
    "### <font color=deepskyblue>Syntax</font>\n",
    "\n",
    "\n",
    "### <font color=deepskyblue>Libraries</font>\n",
    "\n",
    "\n",
    "### <font color=deepskyblue>Classes</font>\n"
   ]
  },
  {
   "cell_type": "markdown",
   "id": "3184bd1d-a05c-47d8-b978-a5752de44dba",
   "metadata": {},
   "source": [
    "---\n",
    "## <font color=deepskyblue>Good Programming Practice</font>\n",
    "\n",
    "- <font color=orangered>*recognise, describe and use good programming practices, including dependability, efficiency, testing, debugging, error correction, coding conventions including commenting, consistent naming conventions, code simplicity and portability*</font>\n",
    "- <font color=orangered>*communicate and clarify knowledge and understanding about the purpose of code statements using code comments.*</font>\n",
    "- <font color=orangered>*explore the use of a procedural text-based language for analysing and critiquing the end result of code statements using input or output evidence, i.e. runtime evidence*</font>\n",
    "\n",
    "<font color=green>*TLDR - *</font>\n",
    "\n",
    "### <font color=deepskyblue>Dependability</font>\n",
    "\n",
    "\n",
    "### <font color=deepskyblue>Efficiency</font>\n",
    "\n",
    "\n",
    "### <font color=deepskyblue>Testing</font>\n",
    "\n",
    "\n",
    "### <font color=deepskyblue>Debugging</font>\n",
    "\n",
    "\n",
    "### <font color=deepskyblue>Error Correction</font>\n",
    "\n",
    "\n",
    "### <font color=deepskyblue>Coding Conventions</font>\n",
    "\n",
    "#### <font color=deepskyblue>Commenting</font>\n",
    "\n",
    "#### <font color=deepskyblue>Naming Conventions</font>\n",
    "\n",
    "#### <font color=deepskyblue>Code Simplicity</font>\n",
    "\n",
    "#### <font color=deepskyblue>Portability</font>"
   ]
  },
  {
   "cell_type": "markdown",
   "id": "d0b8765a-be76-4b06-8d0b-c67df62d6ba1",
   "metadata": {},
   "source": [
    "---\n",
    "## <font color=deepskyblue>Code Syntax and Rules</font>\n",
    "\n",
    "- <font color=orangered>*identify and describe the purpose of code syntax and rules*</font>\n",
    "- <font color=orangered>*explore the use of a procedural text-based language for interpreting programming language rules and syntax*</font>\n",
    "\n",
    "<font color=green>*TLDR - *</font>"
   ]
  },
  {
   "cell_type": "markdown",
   "id": "ebfbc96e-661b-4a37-a8bc-6dcaa5c1c4dc",
   "metadata": {},
   "source": [
    "---\n",
    "## <font color=deepskyblue>Local and Global Variables</font>\n",
    "\n",
    "- <font color=orangered>*identify and describe the scope and use of local and global variables*</font>\n",
    "\n",
    "<font color=green>*TLDR - *</font>"
   ]
  },
  {
   "cell_type": "markdown",
   "id": "d579c0fb-f762-4810-8ccb-977a20197b5a",
   "metadata": {},
   "source": [
    "---\n",
    "## <font color=deepskyblue>Object and Events Triggers</font>\n",
    "\n",
    "- <font color=orangered>*identify and describe code object/event triggers and their effect on user interfaces*</font>\n",
    "\n",
    "<font color=green>*TLDR - *</font>"
   ]
  },
  {
   "cell_type": "markdown",
   "id": "80a65c27-770e-4914-9d0e-8c5bcde37e4d",
   "metadata": {},
   "source": [
    "---\n",
    "## <font color=deepskyblue>Development Environment</font>\n",
    "\n",
    "- <font color=orangered>*explore programming development tools to understand how to use them effectively*</font>\n",
    "- <font color=orangered>*explore the use of a procedural text-based language for writing and modifying code and using existing code blocks or statements*</font>\n",
    "\n",
    "<font color=green>*TLDR - *</font>"
   ]
  }
 ],
 "metadata": {
  "kernelspec": {
   "display_name": "Python 3 (ipykernel)",
   "language": "python",
   "name": "python3"
  },
  "language_info": {
   "codemirror_mode": {
    "name": "ipython",
    "version": 3
   },
   "file_extension": ".py",
   "mimetype": "text/x-python",
   "name": "python",
   "nbconvert_exporter": "python",
   "pygments_lexer": "ipython3",
   "version": "3.10.0"
  }
 },
 "nbformat": 4,
 "nbformat_minor": 5
}
