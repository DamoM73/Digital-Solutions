{
 "cells": [
  {
   "cell_type": "markdown",
   "id": "bf5cd6b7-e2f4-413a-a3a8-feb4a86189ac",
   "metadata": {},
   "source": [
    "# Topic 1: Understanding digital problems\n",
    "appraise information and ideas\n",
    "communicate using digital technologies–specific language\n",
    "communicate using language conventions, textual features, such as annotations, paragraphs and sentences, and referencing conventions to convey information to particular audiences about digital solutions\n",
    "communicate using sketches or diagrams to present information and ideas about the problem and programmed digital solutions\n",
    "communicate using the modes of visual, written and spoken communication to present data and information about digital solutions."
   ]
  },
  {
   "cell_type": "markdown",
   "id": "699d6b23-1c26-413a-bd00-7dd1ac66bd0f",
   "metadata": {
    "tags": []
   },
   "source": [
    "## Digital Problems\n",
    "- <font color=orangered>*understand the constituents of a digital problem*</font>\n",
    "- <font color=orangered>*analyse problems to identify essential elements, components and features of problems in Digital Solutions*</font>\n",
    "\n",
    "<font color=green>*TLDR - Digital problems are solvable using digital systems which consist of inputs, processes and outputs*</font>\n",
    "\n",
    "Problem solving in technology-rich environments involves using digital technology, communication tools and networks to acquire and evaluate information, communicate with others and perform practical tasks. It requires the ability to solve problems for personal, social and economic purposes through the setting of appropriate goals and plans and by the accessing and making use of information through computers and computer networks. (Program for the International Assessment of Adult Competancies (PIAAC), 2020)\n",
    "\n",
    "Digital problems are therefore those problems that are solvable using information and communication technologies. These digital solutions can use a wide variety of developed and developing contexts such as web applications, mobile applications, interactive media and intelligent systems. (QCAA, 2017)\n",
    "\n",
    "What distinguishes a digital problem is that the solution consists of digital hardware and software working together to form a digital system.\n",
    "\n",
    "![IPO](assets/IPO.png)\n",
    "\n",
    "In a digital system:\n",
    "- data goes in (input)\n",
    "- data is manipulated (process)\n",
    "- dats is sent out (output)"
   ]
  },
  {
   "cell_type": "markdown",
   "id": "e07876b0-8e1b-481a-ba81-fb01831abd68",
   "metadata": {
    "tags": []
   },
   "source": [
    "## Computational Thinking\n",
    "- <font color=orangered>*understand methods of breaking down problems into parts using computational thinking*</font>\n",
    "\n",
    "Computational thinking describes the processes and approaches we draw on when thinking about how a computer can help us to solve complex problems and create systems. We often draw on logical reasoning, algorithms, decomposition, abstraction, and patterns and generalisation when thinking computationally.(Digital Technologies Hub 2021).\n",
    "\n",
    "### Decomposition\n",
    "<font color=green>*TLDR - Break the problem down into smaller, more manageable parts.*</font>\n",
    "\n",
    "Decomposition is the process of breaking down complex problems into smaller, more manageable parts. With decomposition, problems that \n",
    "seem overwhelming at first become much more manageable. Problems we encounter are ultimately comprised of smaller problems we can more easily address. This process of breaking down problems enables us to analyze the different aspects of them, ground our thinking, and guide ourselves to an end point.\n",
    "\n",
    "![decomposition](assets/decomposition.png)\n",
    "\n",
    "When decomposing, ask:\n",
    "- What are the different parts of the problem you are trying to solve?\n",
    "- What are the different tasks that I need to do to solve this problem?\n",
    "- Can I easily complete each of tasks? If not, how can they be broken down further?\n",
    "- If I complete all the sub-tasks, will the problem be solved?\n",
    "\n",
    "### Pattern Recognition\n",
    "<font color=green>*TLDR - Analyze data and identify similarities and connections among its different parts.*</font>\n",
    "\n",
    "As it sounds, pattern recognition is all about recognizing patterns. Specifically, with computational thinking, pattern recognition occurs \n",
    "as people study the different decomposed problems.\n",
    "\n",
    "Through analysis, students recognize patterns or connections among the different pieces of the larger problem. These patterns can be \n",
    "both shared similarities and shared differences. This concept is essential to building understanding amid dense information and goes \n",
    "well beyond recognizing patterns amongst sequences of numbers, characters, or symbols. \n",
    "\n",
    "![pattern_recognition](assets/patter_recognition.png)\n",
    "\n",
    "When recognising patterns, ask:\n",
    "- Are there any patterns that you observe?\n",
    "- Do you notice any similarities between this problem and something else you have already solved?\n",
    "- Do any of the parts of this problem share qualities?\n",
    "- Does anything repeat?\n",
    "\n",
    "### Abstraction\n",
    "<font color=green>*TLDR - Identify the most relevant information needed to solve the problem and eliminate the unnecessary details.*</font>\n",
    "\n",
    "Also called, pattern generalization, abstraction enables us to navigate complexity and find relevance and clarity at scale. Decomposition \n",
    "and pattern recognition broke down the complex, and abstraction figures out how to work with the different parts efficiently and accurately. This process occurs through filtering out the extraneous and irrelevant in order to identify what’s most important and connect each decomposed problem.\n",
    "\n",
    "Abstraction is similar to the selective filtering function in our brains that gates the neural signals with which we are constantly \n",
    "bombarded so we can make sense of our world and focus on what’s essential to us.\n",
    "\n",
    "![abstraction](assets/abstraction.png)\n",
    "\n",
    "When abstracting, ask:\n",
    "- What are you trying to solve?\n",
    "- Which details are important in solving this problem?\n",
    "- What can you leave out? What information is unnecessary?\n",
    "- Can you describe this problem as something more basic?\n",
    "\n",
    "### Algorithmic Thinking\n",
    "<font color=green>*TLDR - Develop a step-by-step process to solve the problem so that the work is replicable by humans or computers.*</font>\n",
    "\n",
    "An algorithm is a process or formula for calculating answers, sorting data, and automating tasks; and algorithmic thinking is the process for developing an algorithm.\n",
    "\n",
    "With algorithmic thinking, students endeavor to construct a step-by-step process for solving a problem so that the work is replicable by humans or computers. Algorithmic thinking is a derivative of computer science and the process to develop code and program applications. This approach automates the problem-solving process by creating a series of systematic, logical steps that intake a defined set of inputs and produce a defined set of outputs based on these. \n",
    "\n",
    "In other words, algorithmic thinking is not solving for a specific answer; instead, it solves how to build a sequential, complete, and \n",
    "replicable process that has an end point – an algorithm. Designing an algorithm helps students to both communicate and interpret clear \n",
    "instructions for a predictable, reliable output. As was said earlier, this is the crux of computational thinking.\n",
    "\n",
    "![algorithm](assets/algorithm.png)\n",
    "\n",
    "Then creating algorithms, ask:\n",
    "- What’s the first step you can take to solve this problem?\n",
    "- What are the steps that you need to do to solve this problem?\n",
    "- In what order should you complete those steps?\n"
   ]
  },
  {
   "cell_type": "markdown",
   "id": "4f7507f9-6679-45a6-a18b-ca17b02cbb1c",
   "metadata": {
    "tags": []
   },
   "source": [
    "## User Needs\n",
    "- <font color=orangered>*analyse problems to identify the human need, want or opportunity that requires a new or re-imagined digital solution*</font>\n",
    "- <font color=orangered>*analyse a given problem to identify the user perspective and user-experience requirements*</font>\n",
    "\n",
    "In order to create a digital solution we must deeply understand our users and prioritize their needs.\n",
    "\n",
    "### Empathy Maps\n",
    "\n",
    "<font color=green>*TLDR - Think about what the user will say, think do and feel to determine their needs.*</font>\n",
    "\n",
    "To help identify user needs, UX professionals use [empathy maps](https://youtu.be/QwF9a56WFWA). \n",
    "\n",
    "![empathy map](assets/emapthy_map.png)\n",
    "\n",
    "To fill out an empathy map, consider:\n",
    "- Says -  what the user says about the problem in an interview or some other usability study.\n",
    "- Thinks - what the user is thinking throughout the experience. \n",
    "    - What occupies the user’s thoughts? \n",
    "    - What matters to the user? \n",
    "    - It is possible to have the same content in both Says and Thinks. However, pay special attention to what users think, but may not be willing to vocalize.\n",
    "- Does - the actions the user takes. \n",
    "    - What does the user physically do? \n",
    "    - How does the user go about doing it?\n",
    "- Feels - the user’s emotional state, often represented as an adjective plus a short sentence for context. \n",
    "    - What worries the user? \n",
    "    - What does the user get excited about? \n",
    "    - How does the user feel about the experience?\n",
    "    \n",
    "Synthesise the user’s needs based on the empathy map. This will help define the design challenge. To synthesise an empathy map, group similar recorded observations together in order to find themes. Then Identify needs directly from the user traits noted. \n",
    "\n",
    "Identify needs based on contradictions between two traits, such as a disconnection between what a user says and what the user does. In doing this be aware that:\n",
    "- Needs are verbs and frame activities, actions and desires.\n",
    "- Refrain from using nouns as they will lead to defining solutions, and this is not the aim of the process.\n",
    "\n",
    "\n",
    "\n",
    "\n",
    "\n",
    "\n",
    "\n",
    "\n",
    "\n",
    "\n",
    "### User Personas\n",
    "\n",
    "[user personas](https://youtu.be/u44pBnAn7cM)\n",
    "\n",
    "\n",
    "### User Journey Map\n",
    "\n",
    "[user journey map](https://youtu.be/X7iXcP-wIkk)\n"
   ]
  },
  {
   "cell_type": "markdown",
   "id": "2ea46f6c-5082-4ff3-86a9-9f457a53b815",
   "metadata": {},
   "source": [
    "## Personal, Social and Economic Impacts\n",
    "- <font color=orangered>*understand and describe personal, social and economic impacts*</font>\n",
    "- <font color=orangered>*analyse problems to identify where and how digital technologies are used to solve problems to meet personal, societal and organisational needs*</font>\n",
    "\n",
    "### Personal Impacts\n",
    "\n",
    "### Social Impacts\n",
    "\n",
    "### Economic Impacts\n"
   ]
  },
  {
   "cell_type": "markdown",
   "id": "b3055d69-ba54-4fb4-ac3b-2c45bc947e75",
   "metadata": {},
   "source": [
    "## Systems Thinking\n",
    "- <font color=orangered>analyse a given problem to identify the boundary or scope of the problem</font>\n",
    "- <font color=orangered>analyse a given problem to identify constraints and limitations of the environment</font>\n",
    "- <font color=orangered>analyse a given problem to identify the requirements of the solution</font>\n",
    "- <font color=orangered>analyse a given problem to identify technical issues of the problem that influence the user-interface requirements</font>\n",
    "\n",
    "### Scope\n",
    "\n",
    "### Constraints\n",
    "\n",
    "### Limitations\n",
    "\n",
    "### Solutions Requirements\n",
    "\n",
    "### Interface Requirements"
   ]
  },
  {
   "cell_type": "markdown",
   "id": "107ed79f-7155-47af-80ef-ef057c97079b",
   "metadata": {},
   "source": [
    "## Criteria\n",
    "- <font color=orangered>analyse a given problem to identify prescribed and self-determined criteria to evaluate the personal, social and economic impacts of the solution</font>\n",
    "\n",
    "### Prescribed Criteria\n",
    "\n",
    "### Self-determined Criteria"
   ]
  },
  {
   "cell_type": "markdown",
   "id": "b6062e7c-8b1b-4a7e-a05f-f684864eb767",
   "metadata": {},
   "source": [
    "## Exploring Existing Solutions\n",
    "- <font color=orangered>explore existing solutions to similar problems</font>\n"
   ]
  },
  {
   "cell_type": "markdown",
   "id": "948d59f9-c859-4637-9dcf-d18b8b72501d",
   "metadata": {},
   "source": [
    "## Determining missing, required or unnecessary facts and information\n",
    "- <font color=orangered>analyse a given problem to identify missing, required or unnecessary facts or information</font>"
   ]
  },
  {
   "cell_type": "code",
   "execution_count": null,
   "id": "d31b4efa-30e9-4b88-8ac8-9277f4411dcb",
   "metadata": {},
   "outputs": [],
   "source": []
  }
 ],
 "metadata": {
  "kernelspec": {
   "display_name": "Python 3 (ipykernel)",
   "language": "python",
   "name": "python3"
  },
  "language_info": {
   "codemirror_mode": {
    "name": "ipython",
    "version": 3
   },
   "file_extension": ".py",
   "mimetype": "text/x-python",
   "name": "python",
   "nbconvert_exporter": "python",
   "pygments_lexer": "ipython3",
   "version": "3.10.0"
  }
 },
 "nbformat": 4,
 "nbformat_minor": 5
}
