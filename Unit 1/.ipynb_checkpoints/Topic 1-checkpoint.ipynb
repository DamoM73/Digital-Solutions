{
 "cells": [
  {
   "cell_type": "markdown",
   "id": "bf5cd6b7-e2f4-413a-a3a8-feb4a86189ac",
   "metadata": {},
   "source": [
    "# Topic 1: Understanding digital problems\n",
    "\n",
    "\n",
    "\n",
    "\n",
    "\n",
    " \n",
    "\n",
    "\n",
    "\n",
    "appraise information and ideas\n",
    "communicate using digital technologies–specific language\n",
    "communicate using language conventions, textual features, such as annotations, paragraphs and sentences, and referencing conventions to convey information to particular audiences about digital solutions\n",
    "communicate using sketches or diagrams to present information and ideas about the problem and programmed digital solutions\n",
    "communicate using the modes of visual, written and spoken communication to present data and information about digital solutions."
   ]
  },
  {
   "cell_type": "markdown",
   "id": "699d6b23-1c26-413a-bd00-7dd1ac66bd0f",
   "metadata": {
    "tags": []
   },
   "source": [
    "## Digital Systems\n",
    "- <font color=cornflowerblue>*understand the constituents of a digital problem*</font>\n",
    "- <font color=cornflowerblue>*analyse problems to identify essential elements, components and features of problems in Digital Solutions*</font>\n",
    "\n",
    "What distinguishes a digital problem is that the solution consists of digital hardware and software working together to form a digital system.\n",
    "\n",
    "![IPO](assets/IPO.png)\n",
    "\n",
    "In a digital system:\n",
    "- data goes in (input)\n",
    "- data is manipulated (process)\n",
    "- dats is sent out (output)"
   ]
  },
  {
   "cell_type": "markdown",
   "id": "e07876b0-8e1b-481a-ba81-fb01831abd68",
   "metadata": {},
   "source": [
    "## Computational Thinking\n",
    "- <font color=cornflowerblue>*understand methods of breaking down problems into parts using computational thinking*</font>"
   ]
  },
  {
   "cell_type": "markdown",
   "id": "4f7507f9-6679-45a6-a18b-ca17b02cbb1c",
   "metadata": {
    "tags": []
   },
   "source": [
    "## User Needs\n",
    "- <font color=cornflowerblue>*analyse problems to identify the human need, want or opportunity that requires a new or re-imagined digital solution*</font>\n",
    "- <font color=cornflowerblue>*analyse a given problem to identify the user perspective and user-experience requirements*</font>"
   ]
  },
  {
   "cell_type": "markdown",
   "id": "2ea46f6c-5082-4ff3-86a9-9f457a53b815",
   "metadata": {},
   "source": [
    "## Personal, Social and Economic Impacts\n",
    "- <font color=cornflowerblue>*understand and describe personal, social and economic impacts*</font>\n",
    "- <font color=cornflowerblue>*analyse problems to identify where and how digital technologies are used to solve problems to meet personal, societal and organisational needs*</font>\n",
    "\n",
    "### Personal Impacts\n",
    "\n",
    "### Social Impacts\n",
    "\n",
    "### Economic Impacts\n"
   ]
  },
  {
   "cell_type": "markdown",
   "id": "b3055d69-ba54-4fb4-ac3b-2c45bc947e75",
   "metadata": {},
   "source": [
    "## Systems Thinking\n",
    "- <font color=cornflowerblue>analyse a given problem to identify the boundary or scope of the problem</font>\n",
    "- <font color=cornflowerblue>analyse a given problem to identify constraints and limitations of the environment</font>\n",
    "- <font color=cornflowerblue>analyse a given problem to identify the requirements of the solution</font>\n",
    "- <font color=cornflowerblue>analyse a given problem to identify technical issues of the problem that influence the user-interface requirements</font>\n",
    "\n",
    "### Scope\n",
    "\n",
    "### Constraints\n",
    "\n",
    "### Limitations\n",
    "\n",
    "### Solutions Requirements\n",
    "\n",
    "### Interface Requirements"
   ]
  },
  {
   "cell_type": "markdown",
   "id": "107ed79f-7155-47af-80ef-ef057c97079b",
   "metadata": {},
   "source": [
    "## Criteria\n",
    "- <font color=cornflowerblue>analyse a given problem to identify prescribed and self-determined criteria to evaluate the personal, social and economic impacts of the solution</font>\n",
    "\n",
    "### Prescribed Criteria\n",
    "\n",
    "### Self-determined Criteria"
   ]
  },
  {
   "cell_type": "markdown",
   "id": "b6062e7c-8b1b-4a7e-a05f-f684864eb767",
   "metadata": {},
   "source": [
    "## Exploring Existing Solutions\n",
    "- <font color=cornflowerblue>explore existing solutions to similar problems</font>\n"
   ]
  },
  {
   "cell_type": "markdown",
   "id": "948d59f9-c859-4637-9dcf-d18b8b72501d",
   "metadata": {},
   "source": [
    "## Determining missing, required or unnecessary facts and information\n",
    "- <font color=cornflowerblue>analyse a given problem to identify missing, required or unnecessary facts or information</font>"
   ]
  },
  {
   "cell_type": "code",
   "execution_count": null,
   "id": "d78cb824-331c-4c78-a9b2-2335d197b5a7",
   "metadata": {},
   "outputs": [],
   "source": []
  }
 ],
 "metadata": {
  "kernelspec": {
   "display_name": "Python 3 (ipykernel)",
   "language": "python",
   "name": "python3"
  },
  "language_info": {
   "codemirror_mode": {
    "name": "ipython",
    "version": 3
   },
   "file_extension": ".py",
   "mimetype": "text/x-python",
   "name": "python",
   "nbconvert_exporter": "python",
   "pygments_lexer": "ipython3",
   "version": "3.10.0"
  }
 },
 "nbformat": 4,
 "nbformat_minor": 5
}
