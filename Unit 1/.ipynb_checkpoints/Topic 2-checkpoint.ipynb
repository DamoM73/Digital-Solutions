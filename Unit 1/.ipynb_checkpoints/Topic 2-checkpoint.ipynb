{
 "cells": [
  {
   "cell_type": "markdown",
   "id": "f3cb42bb-d05d-4ee9-abaa-e2f6dfcf11bc",
   "metadata": {},
   "source": [
    "# <font color=deepskyblue>Topic 2: User Experience and Interfaces</font>"
   ]
  },
  {
   "cell_type": "markdown",
   "id": "9b165505-edb0-4ac7-9161-b45db4c549bf",
   "metadata": {},
   "source": [
    "---\n",
    "## <font color=deepskyblue>User Experience</font>\n",
    "\n",
    "- <font color=orangered>*recognise and describe the meaning and importance of user experience*</font>\n",
    "\n",
    "<font color=green>*TLDR - *</font>"
   ]
  },
  {
   "cell_type": "markdown",
   "id": "c1fedd8f-6421-4d61-9e53-cf99b051c94e",
   "metadata": {},
   "source": [
    "---\n",
    "## <font color=deepskyblue>Usability Principles</font>\n",
    "\n",
    "- <font color=orangered>*recognise and describe useability principles including accessibility, effectiveness, safety, utility and learnability*</font>\n",
    "\n",
    "<font color=green>*TLDR - *</font>\n",
    "\n",
    "### <font color=deepskyblue>Accessibility</font>\n",
    "\n",
    "\n",
    "### <font color=deepskyblue>Effectiveness</font>\n",
    "\n",
    "\n",
    "### <font color=deepskyblue>Safety</font>\n",
    "\n",
    "\n",
    "### <font color=deepskyblue>Utility</font>\n",
    "\n",
    "\n",
    "### <font color=deepskyblue>Learnability</font>\n"
   ]
  },
  {
   "cell_type": "markdown",
   "id": "b46f90fc-8e05-47d1-949e-8d85b48136be",
   "metadata": {},
   "source": [
    "---\n",
    "## <font color=deepskyblue>User Interfaces</font>\n",
    "\n",
    "- <font color=orangered>*explore existing user interfaces to identify pitfalls and useful solutions*</font>\n",
    "- <font color=orangered>*explore existing user interfaces to determine how user characteristics influence the user-interface requirements and user experience for problems and solutions in relation to the useability principles*</font>\n",
    "- <font color=orangered>*evaluate and make recommendations about user interfaces based on useability principles*</font>\n",
    "\n",
    "<font color=green>*TLDR - *</font>"
   ]
  },
  {
   "cell_type": "markdown",
   "id": "0cc66c18-032e-4171-ba78-38d1aa661a70",
   "metadata": {},
   "source": [
    "---\n",
    "## <font color=deepskyblue>Symbolising User Interfaces</font>\n",
    "\n",
    "- <font color=orangered>*symbolise ideas for a user interface using sketches, diagrams, schematic diagrams or mock-ups*</font>\n",
    "\n",
    "<font color=green>*TLDR - *</font>"
   ]
  },
  {
   "cell_type": "markdown",
   "id": "4313e3e9-724c-48f6-8189-2eb8172ff514",
   "metadata": {},
   "source": [
    "---\n",
    "## <font color=deepskyblue>User Interface Tools</font>\n",
    "\n",
    "- <font color=orangered>*generate user interfaces by investigating and applying useability principles*</font>\n",
    "\n",
    "<font color=green>*TLDR - *</font>"
   ]
  },
  {
   "cell_type": "code",
   "execution_count": null,
   "id": "6eafb667-7f6e-4177-970f-4e4b41d8607e",
   "metadata": {},
   "outputs": [],
   "source": []
  }
 ],
 "metadata": {
  "kernelspec": {
   "display_name": "Python 3 (ipykernel)",
   "language": "python",
   "name": "python3"
  },
  "language_info": {
   "codemirror_mode": {
    "name": "ipython",
    "version": 3
   },
   "file_extension": ".py",
   "mimetype": "text/x-python",
   "name": "python",
   "nbconvert_exporter": "python",
   "pygments_lexer": "ipython3",
   "version": "3.10.0"
  }
 },
 "nbformat": 4,
 "nbformat_minor": 5
}
