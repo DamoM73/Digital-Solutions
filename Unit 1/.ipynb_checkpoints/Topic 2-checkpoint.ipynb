{
 "cells": [
  {
   "cell_type": "markdown",
   "id": "f3cb42bb-d05d-4ee9-abaa-e2f6dfcf11bc",
   "metadata": {},
   "source": [
    "# <font color=deepskyblue>Topic 2: User experience and interfaces</font>"
   ]
  },
  {
   "cell_type": "markdown",
   "id": "668dcb10-8b9d-495f-b455-323618c9104d",
   "metadata": {},
   "source": [
    "- <font color=orangered>*recognise and describe the meaning and importance of user experience*</font>\n",
    "- <font color=orangered>*recognise and describe useability principles including accessibility, effectiveness, safety, utility and learnability*</font>\n",
    "- <font color=orangered>*explore existing user interfaces to identify pitfalls and useful solutions*</font>\n",
    "- <font color=orangered>*explore existing user interfaces to determine how user characteristics influence the user-interface requirements and user experience for problems and solutions in relation to the useability principles*</font>\n",
    "- <font color=orangered>*symbolise ideas for a user interface using sketches, diagrams, schematic diagrams or mock-ups*</font>\n",
    "- <font color=orangered>*generate user interfaces by investigating and applying useability principles*</font>\n",
    "- <font color=orangered>*evaluate and make recommendations about user interfaces based on useability principles*</font>"
   ]
  }
 ],
 "metadata": {
  "kernelspec": {
   "display_name": "Python 3 (ipykernel)",
   "language": "python",
   "name": "python3"
  },
  "language_info": {
   "codemirror_mode": {
    "name": "ipython",
    "version": 3
   },
   "file_extension": ".py",
   "mimetype": "text/x-python",
   "name": "python",
   "nbconvert_exporter": "python",
   "pygments_lexer": "ipython3",
   "version": "3.10.0"
  }
 },
 "nbformat": 4,
 "nbformat_minor": 5
}
