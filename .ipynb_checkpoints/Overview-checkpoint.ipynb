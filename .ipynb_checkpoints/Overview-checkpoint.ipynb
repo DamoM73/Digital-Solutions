{
 "cells": [
  {
   "cell_type": "markdown",
   "id": "1389188e-dea7-4008-a82c-552452172cdf",
   "metadata": {
    "tags": []
   },
   "source": [
    "# Digital Solutions"
   ]
  },
  {
   "cell_type": "markdown",
   "id": "b85b9da7-b948-40d7-b2dd-f11d9baf4d4f",
   "metadata": {
    "jp-MarkdownHeadingCollapsed": true,
    "tags": []
   },
   "source": [
    "## Course Structure\n",
    "### Unit 1 - Creating with code\n",
    "In Unit 1, students will explore the creative and technical aspects of developing interactive digital solutions. They investigate algorithms, programming features and useability principles to generate small interactive solutions using programming tools and gain a practical understanding of programming features.\n",
    "\n",
    "<font color=green>*TLDR - Learn to create digital solutions using Python*</font>\n",
    "\n",
    "#### Topics\n",
    "- Topic 1: Understanding digital problems\n",
    "- Topic 2: User experiences and interfaces\n",
    "- Topic 3: Algorithms and programming techniques\n",
    "- Topic 4: Programmed solutions\n",
    "\n",
    "#### Assessment instruments\n",
    "- Investigation - Technical Proposal\n",
    "- Project - Digital Solution\n",
    "\n",
    "### Unit 2 - Application and data solutions\n",
    "In Unit 2, students will optimise a given database and use programming skills acquired in Unit 1 to write procedural text-based code to generate a solution that interacts with an existing database via structured query language (SQL). Students will plan, develop and generate the interface and code to enable the user to insert, update, retrieve and delete data using an existing database via SQL. Prior to inserting the data, the system will validate the data being entered to ensure its integrity and reliability for use and storage. Retrieved data will be displayed to the user in an appropriate format, such as text or a symbolic visual form.\n",
    "\n",
    "<font color=green>*TLDR - Learn to work with data in databases*</font>\n",
    "\n",
    "#### Topics\n",
    "- Topic 1: Data-driven problems and solution requirements\n",
    "- Topic 2: Data and programming techniques\n",
    "- Topic 3: Prototype data solutions\n",
    "\n",
    "#### Assessment instruments\n",
    "- Project - Folio\n",
    "- Exam\n",
    "\n",
    "### Unit 3 - Digital innovation\n",
    "In Unit 3, students analyse the requirements of particular groups of people, and use knowledge and skills of problem-solving, computational, design and systems thinking. They will determine data requirements and use available resources to create prototyped digital solutions by programming and developing user interfaces to improve user experiences. \n",
    "\n",
    "<font color=green>*TLDR - Use programming knowledge from Unit 1 and database knowledge from Unit 2 to create digital solutions*</font>\n",
    "\n",
    "#### Topics\n",
    "- Topic 1: Interactions between users, data and digital systems\n",
    "- Topic 2: Real-world problems and solution requirements\n",
    "- Topic 3: Innovative digital solutions\n",
    "\n",
    "#### Assessment instruments\n",
    "- Investigation - Technical Proposal\n",
    "- Project - Digital Solution\n",
    "\n",
    "### Unit 4 - Digital impacts\n",
    "In Unit 4, students learn how data is shared in both local and global contexts, particularly how digital solutions are increasingly required to exchange data securely and efficiently. Students will understand elements of cybersecurity by exploring the conditions, environment and methods for enabling data to flow between different digital systems. They will analyse data privacy and data integrity risks associated with transferring data between applications and evaluate the personal, social and economic impacts associated with the use and availability of both public and private data. Students will develop an application that simulates the exchange of data between two applications.\n",
    "\n",
    "<font color=green>*TLDR - Learn how store and transfer data securely*</font>\n",
    "\n",
    "#### Topics\n",
    "- Topic 1: Digital methods for exchanging data\n",
    "- Topic 2: Complex digital data exchange problems and solution requirements\n",
    "- Topic 3: Prototype digital data exchanges"
   ]
  },
  {
   "cell_type": "markdown",
   "id": "342ea4c3-4bb8-4b9c-b9cf-6d349fad355a",
   "metadata": {
    "tags": []
   },
   "source": [
    "## The problem-solving process in Digital Solutions\n",
    "The problem-solving process in Digital Solutions is analytical and technical in nature. The process is iterative, proceeds through a number of phases, requiring students to explore problems, develop ideas, generate components and digital solutions, and evaluate personal, social and economic impacts, components and digital solutions.\n",
    "\n",
    "![Problem-solving process in Digital Solutions](assets/EDGE.png)\n",
    "### Explore\n",
    "The explore phase involves students investigating a need, want or opportunity to analyse and understand a digital problem and its relationship to existing solutions.\n",
    "\n",
    "To explore the problem, students:\n",
    "- describe problems from a user perspective\n",
    "- recognise constraints\n",
    "- use decomposition to dissect problems and existing solutions to similar problems\n",
    "- use abstraction and pattern recognition to identify essential features of elements, components, relationships and structures of problems\n",
    "- analyse problems, solutions and information to make decisions about the reasonableness of information and the structure, availability and accuracy of existing problems and solutions\n",
    "- use systems thinking to identify and understand the relationships between users, solutions and the components of solutions in similar problems\n",
    "- identify and understand possible solution requirements, such as information, skills and tools, by considering elements, components and features, and their relationship to the structure of the problem\n",
    "- use design, systems and computational (decomposition, pattern recognition and abstraction) thinking processes to determine evaluation criteria that are used to appraise and make decisions throughout, and at the end of, the problem-solving process in Digital Solutions. Evaluation criteria are prescribed by the teacher or client (prescribed criteria) or determined by the student (self-determined criteria) and must include criteria to evaluate the personal, social and economic impacts, and quality, appropriateness and effectiveness of the developed component or solution\n",
    "- use design thinking to evaluate ideas that best meet the evaluation criteria.\n",
    "\n",
    "### Develop\n",
    "The develop phase involves students creating new understanding and identifying possible solutions using design, systems, and abstraction and algorithmic computational thinking processes. Students evaluate personal, social and economic impacts, components and digital solutions against criteria throughout the develop phase to make decisions and refine the user experience and technical operation of components of the solution.\n",
    "\n",
    "To develop ideas, students:\n",
    "- use design thinking to visualise ideas and synthesise information and ideas in response to a digital problem by using drawing and creative skills to represent and communicate ideas\n",
    "- acquire required information, tools and skills to implement a solution plan\n",
    "- use computational thinking to apply abstraction procedures to problem components\n",
    "- use computational thinking to express algorithms\n",
    "- use systems and design thinking to develop ideas about components and solutions to test conceptual models\n",
    "- use systems and design thinking to generate creative ideas, identify a solution and evaluate ideas that best meet the criteria for success.\n",
    "\n",
    "### Generate\n",
    "The generate phase involves students using information, software, programming tools and skills, and systems and design thinking processes to create components of an identified digital solution. Students evaluate personal, social and economic impacts, components and digital solutions against criteria throughout the generate phase to make decisions and refine the user experience and technical operation of components of the solution.\n",
    "\n",
    "To generate solutions, students:\n",
    "- use design and systems thinking processes to synthesise acquired information, ideas and skills to\n",
    "- generate individual components of a preferred solution\n",
    "- generate and refine a preferred solution in response to new or existing information\n",
    "- use design thinking to evaluate and respond to the results of alpha testing\n",
    "- use systems and design thinking to construct a solution and communicate knowledge and understanding of the solution.\n",
    "\n",
    "### Evaluate and refine\n",
    "When students evaluate, they use systems, design and computational thinking to appraise personal, social and economic impacts, components and digital solutions by weighing up or assessing strengths, implications and limitations against prescribed and self-determined criteria. When students refine ideas and a digital solution, they make partial or minor changes based on selected criteria to improve the user experience and technical operation. Evaluation occurs throughout each phase of the problem-solving process in Digital Solutions in order to refine the components and a solution in response to the prescribed and self-determined criteria.\n",
    "\n",
    "To evaluate and refine, students:\n",
    "- use pattern recognition to compare behaviours, e.g. usage and system, and outcomes of alternative solutions\n",
    "- appraise test data and errors\n",
    "- use design thinking to evaluate components and the digital solution against prescribed and self-determined criteria\n",
    "- make changes in response to continual testing and appraisal of components and digital solutions\n",
    "- make justified recommendations about inputs and the digital solution with supporting evidence."
   ]
  }
 ],
 "metadata": {
  "kernelspec": {
   "display_name": "Python 3 (ipykernel)",
   "language": "python",
   "name": "python3"
  },
  "language_info": {
   "codemirror_mode": {
    "name": "ipython",
    "version": 3
   },
   "file_extension": ".py",
   "mimetype": "text/x-python",
   "name": "python",
   "nbconvert_exporter": "python",
   "pygments_lexer": "ipython3",
   "version": "3.10.0"
  }
 },
 "nbformat": 4,
 "nbformat_minor": 5
}
