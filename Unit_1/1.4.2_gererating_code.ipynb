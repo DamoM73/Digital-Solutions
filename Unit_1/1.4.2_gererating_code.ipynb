{
 "cells": [
  {
   "cell_type": "markdown",
   "id": "2fe73de4-f3f8-44bb-a237-4f55f424a222",
   "metadata": {},
   "source": [
    "# <font color=darkorange>Topic 4: Programmed Solutions</font>"
   ]
  },
  {
   "cell_type": "markdown",
   "id": "7a3b7c04-8e5b-4b9b-9bdc-26780f3fb27b",
   "metadata": {},
   "source": [
    "## <font color=deepskyblue>1.4.2 Generating Code</font>\n",
    "\n",
    "- <font color=orangered>*output information to the screen in text-based or visual formats*</font>\n",
    "- <font color=orangered>*generate components of a solution by using existing code or writing new code statements*</font>\n",
    "- <font color=orangered>*generate modified code in response to new or existing information*</font>\n",
    "- <font color=orangered>*generate functions/procedures with efficient and maintainable code that includes reuseable code blocks or statements and responses to keyboard and mouse events*</font>\n",
    "- <font color=orangered>*generate selection structures, counted loops, while loops, and single, multi-branch and nested conditional logic statements*</font>\n",
    "- <font color=orangered>*generate local and global variables*</font>\n",
    "- <font color=orangered>*generate a prototype digital solution in response to a problem*</font>\n",
    "- <font color=orangered>*test inputs, outputs and processes*</font>\n",
    "\n",
    "<font color=green>*TLDR - We will be using the MVC architecture pattern to develop our applications*</font>\n",
    "\n",
    "Much of this topic will be dealt with using our Development Environment where we will learn to develop applications using Python."
   ]
  },
  {
   "cell_type": "markdown",
   "id": "a0073fe2-f5b7-4e07-9a94-c0f590472ef5",
   "metadata": {
    "jp-MarkdownHeadingCollapsed": true,
    "tags": []
   },
   "source": [
    "---\n",
    "### <font color=deepskyblue>MVC architecture pattern</font>\n",
    "\n",
    "The MVC architecture pattern turns complex application development into a much more manageable process. It is example of modularization and decomposition.\n",
    "\n",
    "MVC stands for model-view-controller. Here's what each of those components mean:\n",
    "\n",
    "- **Model** - The backend that contains all the data logic\n",
    "- **View** - The frontend or user interface (UI)\n",
    "- **Controller** - The brains of the application that controls how data is displayed\n",
    "\n",
    "![MVC architecture](assets/MVC3.png)\n",
    "\n",
    "#### <font color=deepskyblue>Why use MVC?</font>\n",
    "\n",
    "We use MVC to establish **separation of concerns(SoC)**.\n",
    "\n",
    "The MVC pattern helps you break up the frontend and backend code into separate components. This way, it's much easier to manage and make changes to either side without them interfering with each other.\n",
    "\n",
    "But this is easier said than done, especially when several developers need to update, modify, or debug a full-blown application simultaneously.\n",
    "\n",
    "#### <font color=deepskyblue>Model (data)</font>\n",
    "\n",
    "The model's job is to simply manage the data. Whether the data is from a database, API, JSON object or local file, the model is responsible for managing it.\n",
    "\n",
    "#### <font color=deepskyblue>Views (UI)</font>\n",
    "\n",
    "The view's job is to decide what the user will see on their screen, and how.\n",
    "\n",
    "#### <font color=deepskyblue>Controller (Brain)</font>\n",
    "\n",
    "The controller's responsibility is to pull, modify, and provide data to the user. Essentially, the controller is the link between the view and model.\n",
    "\n",
    "Through **getter** and **setter** functions, the controller pulls data from the model and initializes the views.\n",
    "\n",
    "If there are any updates from the views, it modifies the data with a setter function."
   ]
  }
 ],
 "metadata": {
  "kernelspec": {
   "display_name": "Python 3 (ipykernel)",
   "language": "python",
   "name": "python3"
  },
  "language_info": {
   "codemirror_mode": {
    "name": "ipython",
    "version": 3
   },
   "file_extension": ".py",
   "mimetype": "text/x-python",
   "name": "python",
   "nbconvert_exporter": "python",
   "pygments_lexer": "ipython3",
   "version": "3.10.1"
  }
 },
 "nbformat": 4,
 "nbformat_minor": 5
}
