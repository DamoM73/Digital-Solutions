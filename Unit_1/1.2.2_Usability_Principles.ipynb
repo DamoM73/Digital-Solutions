{
 "cells": [
  {
   "cell_type": "markdown",
   "id": "f3cb42bb-d05d-4ee9-abaa-e2f6dfcf11bc",
   "metadata": {},
   "source": [
    "# <font color=darkorange>Unit 1 Topic 2: User Experience and Interfaces</font>"
   ]
  },
  {
   "cell_type": "markdown",
   "id": "c1fedd8f-6421-4d61-9e53-cf99b051c94e",
   "metadata": {},
   "source": [
    "## <font color=deepskyblue>1.2.2 Usability Principles</font>\n",
    "\n",
    "- <font color=orangered>*recognise and describe useability principles including accessibility, effectiveness, safety, utility and learnability*</font>\n",
    "\n",
    "<font color=green>*TLDR - Useability is about the how easy a product is to use, and it is influenced by it's accessability, effectiveness, safety, utility and learnability*</font>\n",
    "\n",
    "Usability is a measure of how well a specific user in a specific context can use a product/design to achieve a defined goal effectively, efficiently and satisfactorily. Designers usually measure a design's usability throughout the development process — from wireframes to the final deliverable.\n",
    "\n",
    "A design's usability depends on how well its features accommodate users' needs and contexts.\n",
    "\n",
    "In Digital Solutions we will focus on the five usability principles of accessibility, effectiveness, safety, utility and learnability."
   ]
  },
  {
   "cell_type": "markdown",
   "id": "d9bab316-25e7-45fa-a3ef-ab67f1b034fc",
   "metadata": {},
   "source": [
    "---\n",
    "### <font color=deepskyblue>Accessibility</font>\n",
    "\n",
    "Accessibility is the ability to be used by many different people, even people with disabilities. \n",
    "\n",
    "Accessibility guidelines are based on four principles (often referred to as POUR):\n",
    "- **Perceivable** - Information and user interface components must be presented to users in ways that they can perceive. For example, it's important to present information that can be perceived in different ways, where a user can adjust color contrast or font size, or view captions for videos.\n",
    "- **Operable**  - User interface components and navigation must be operable to users in ways they can operate. For example, required interactions can be performed using keyboard or voice commands.\n",
    "- **Understandable** - Information and user interface operation must be understandable. For example, information and instructions are clear and navigation methods are easy to understand and use.\n",
    "- **Robust** - Content must be robust enough so that it can be interpreted reliably by a wide variety of users and types of assistive technologies. As technologies evolve, code and content should remain accessible for users of common and current assistive devices and tools."
   ]
  },
  {
   "cell_type": "markdown",
   "id": "216f0ec7-97db-4136-8c4f-026d0033473b",
   "metadata": {},
   "source": [
    "---\n",
    "### <font color=deepskyblue>Effectiveness</font>\n",
    " \n",
    "Effectiveness is the ability of users to use the system to do the work they need to do. Users need to be able to interact with a digital solution quickly and easily; and outputs need to be presented clearly in a way that can be easily interpreted by the user.Effectiveness includes reliability, which means the solution needs to be constant, dependable, consistent and repeatable. When you evaluate effectiveness you are looking for things that work or do not work as expected."
   ]
  },
  {
   "cell_type": "markdown",
   "id": "750ab437-35c4-4cea-86de-c6bcf85ae90d",
   "metadata": {},
   "source": [
    "---\n",
    "### <font color=deepskyblue>Safety</font>\n",
    "\n",
    "Safety is the ability for users to make errors and recover from the mistake. \n",
    "\n",
    "Safety considers the questions:\n",
    "- How many errors do users make?\n",
    "- How severe are these errors?\n",
    "- How easily can the user recover from the errors?\n",
    "\n",
    "Safety is a little considered usability goal. Safety is protecting the users from dangerous errors, for example losing all the user's data or protecting the user's confidential information.\n",
    "\n",
    "Examples of designing safely could include:\n",
    "- Not putting the delete button next to the save button. \n",
    "- Providing users various ways to recover from errors, both by reverting to a priority state or progressing the system to the correct state. For example in a word processor, the writer can use control-z to correct, back button, or retype to correct mistakes. \n",
    "- Making sure that input text field are wide enough to hold all the required data.\n",
    "- Limiting possible user responses with UI components like combo boxes, check boxes and radio buttons.\n",
    "\n",
    "It is always better to design interfaces that prevent errors from happening in the first place. \n",
    "\n",
    "Evaluating for safety is really about considering all the things that users could do wrong and finding ways to prevent them from making the error. This will be different for every interface or digital solution. \n",
    "\n",
    "To evaluate for safety / error prevention you essentially need to write a checklist of everything that could be done wrong and make sure that steps are taken to prevent as many of these errors as possible. The curse of knowledge dictates that you will underestimate how your solution will be misused, so it recommended to enlist the assistance of non-developers in this process.\n",
    "\n",
    "#### <font color=deepskyblue>Ways to address safety</font>\n",
    "\n",
    "Provide support information.\n",
    "- Display sufficient instructional information for uses to interact correctly with the system.\n",
    "- Design for working memory limitations. Young adults can typically remember between 3 and 5 pieces of information at a time.\n",
    "- Spell out abbreviations, initializes, and acronyms, and immediately follow them by the abbreviation, in the first instance. \n",
    "- Display sufficient content to allow users to act.\n",
    "- Use descriptive labels for objects and items.\n",
    "- Organize information clearly.\n",
    "- Ensure that necessary information is displayed.\n",
    "\n",
    "Eliminate error-prone conditions.\n",
    "- Input boxes should be wide enough for users to see and edit standard queries on the site.\n",
    "- Avoid misleading cues to click.\n",
    "- Phrasing of menu items: use familiar and consistent terminology, ensure that items are distinct from one another, use consistent and concise phrasing, and position the key words to the left of the text string.\n",
    "- Place important Items consistently.\n",
    "- Highlighting information.\n",
    "- Minimize user data entry.\n",
    "- Minimize visual clutter so that formatting and icons are effective for providing emphasis and implying priorities: draw attention to important information without introducing too much distraction.\n",
    "- Order lists appropriately.\n",
    "\n",
    "Use informative feedback.\n",
    "- Alerts need to be compatible with, and exist within, the messaging framework"
   ]
  },
  {
   "cell_type": "markdown",
   "id": "0149cfcf-9194-4c98-ba09-fec1e2b87cb4",
   "metadata": {},
   "source": [
    "---\n",
    "### <font color=deepskyblue>Utility</font>\n",
    "\n",
    "Utility is the ability of the system to provide all the functionality that users need. It matters little that something is easy if it's not what you want. There are many ways that a solution can be useful, and will be strongly influenced by users' needs and the desired impacts of the solution."
   ]
  },
  {
   "cell_type": "markdown",
   "id": "580ac11b-9c51-4478-aad7-30ae0604b580",
   "metadata": {},
   "source": [
    "---\n",
    "### <font color=deepskyblue>Learnability</font>\n",
    "\n",
    "Learnability is concerned with how easy a system is to learn. \n",
    "\n",
    "How intuitive or memorable is the digital solution? Does it match pre-existing patterns in other digital products? For example, does it function like a store if it is a store? Does the game use standardised controls like arrow keys of WASD?\n",
    "\n",
    "Learnability includes how quickly and easily users can learn to:\n",
    "- Find information\n",
    "- Complete tasks \n",
    "- Navigate the digital solution"
   ]
  }
 ],
 "metadata": {
  "kernelspec": {
   "display_name": "Python 3 (ipykernel)",
   "language": "python",
   "name": "python3"
  },
  "language_info": {
   "codemirror_mode": {
    "name": "ipython",
    "version": 3
   },
   "file_extension": ".py",
   "mimetype": "text/x-python",
   "name": "python",
   "nbconvert_exporter": "python",
   "pygments_lexer": "ipython3",
   "version": "3.10.1"
  }
 },
 "nbformat": 4,
 "nbformat_minor": 5
}
