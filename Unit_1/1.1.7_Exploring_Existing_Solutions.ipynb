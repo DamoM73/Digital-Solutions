{
 "cells": [
  {
   "cell_type": "markdown",
   "id": "bf5cd6b7-e2f4-413a-a3a8-feb4a86189ac",
   "metadata": {},
   "source": [
    "# <font color=darkorange>Unit 1 Topic 1: Understanding Digital Problems</font>"
   ]
  },
  {
   "cell_type": "markdown",
   "id": "a46e0141-47d7-4acf-8141-e24f78af611c",
   "metadata": {},
   "source": [
    "## <font color=deepskyblue>1.1.7 Exploring Existing Solutions</font>\n",
    "\n",
    "- <font color=orangered>explore existing solutions to similar problems</font>\n",
    "\n",
    "<font color=green>*TLDR - In planning your digital solution, it is worthwhile considering the features of similar solutions.*</font>\n",
    "\n",
    "As part of building or developing a digital solution it is appropriate to investigate existing solutions to the same or similar problems.\n",
    "\n",
    "When examining an existing solution is useful to ask questions about the manner in which information is displayed and consider the strengths and weaknesses of those solutions.\n",
    "\n",
    "To begin a competitor analysis, it is necessary to decide what solutions are appropriate to look at.\n",
    "\n",
    "To do this it is necessary to clearly define:\n",
    "- Who will be using the solution?\n",
    "    - Who are your target customers or users? \n",
    "    - These are your user personas. \n",
    "    - These may also include businesses and corporate entities if appropriate.\n",
    "- What problem is being solved?\n",
    "    - What core problem does your product solve for your target customers? \n",
    "    - You need to have defined the system and you need to know your impact goals.\n",
    "3. How will the problem be solved? What is the product category?\n",
    "    - How are you proposing to solve the problems? \n",
    "    - Are you solving this problem with a unique technology or process? \n",
    "    - You need to have gone through a design thinking process to come up with your ideas and model of solving the problem.\n",
    "    \n",
    "There are a lot of different ways that you can identify your competitors. The diagram below indicates that the strongest competitors are those that overlap on all three of the above conditions.\n",
    "\n",
    "![Competitor Analysis](assets/competitior_analysis.png)\n",
    "\n",
    "Direct competitors are companies that sell to the same customers and solve the same problem using the same or similar solution (technology). Solution here means using a similar technology or approach to the problem — one that seems indistinguishable to the customer. For example, Uber and Lyft are direct competitors. Similar technology would mean using the same context in Digital Solutions, that is, web application, mobile application, interaction media or intelligent systems."
   ]
  },
  {
   "cell_type": "markdown",
   "id": "e90d766a-e237-47aa-a99d-a9b508ed4d79",
   "metadata": {},
   "source": [
    "---\n",
    "### <font color=deepskyblue>Existing Solutions Analysis</font>\n",
    "\n",
    "To conduct the analysis a number of steps should be undertaken.\n",
    "\n",
    "- Firstly, list all the features that your competitor offers and outline the value that each feature brings to customers. Create a map of your own features and values that overlap with your competitors. Ask:\n",
    "    - What are your competitors' core product features?\n",
    "    - What product features are unique to your competitors?\n",
    "    - How do your product features compare to the same features of your competitor?\n",
    "    - Does your competitor support multiple environments (e.g., web, iOS, Android)?\n",
    "- Consider also the economics of the competitors' solution:\n",
    "    - What is the minimum price your competitors charges?\n",
    "    - What is the Average Selling Price? (free or tiered pricing)\n",
    "    - What are the main factors that impact price (number of seats, volume etc.)?\n",
    "- Finally, assess the competitors' product on its strengths and weaknesses:\n",
    "    - What are the strengths of your competitors' product?\n",
    "    - What are the weaknesses of your competitors' product?\n",
    "    - How do customers perceive your competitors' product design, quality, and price?\n",
    "\n",
    "The primary goal of a competitive analysis is to understand the marketplace and how you can differentiate you solution or product from other players. This is known as a \"point of difference\". At the end of a competitive analysis, you should create a battle card for each competitor. A competitive battle card is essentially a quick visual reference that helps you to differentiate or position your application against competitors."
   ]
  }
 ],
 "metadata": {
  "kernelspec": {
   "display_name": "Python 3 (ipykernel)",
   "language": "python",
   "name": "python3"
  },
  "language_info": {
   "codemirror_mode": {
    "name": "ipython",
    "version": 3
   },
   "file_extension": ".py",
   "mimetype": "text/x-python",
   "name": "python",
   "nbconvert_exporter": "python",
   "pygments_lexer": "ipython3",
   "version": "3.10.1"
  }
 },
 "nbformat": 4,
 "nbformat_minor": 5
}
