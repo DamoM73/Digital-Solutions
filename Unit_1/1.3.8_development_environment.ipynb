{
 "cells": [
  {
   "cell_type": "markdown",
   "id": "4b60bee2-a40b-43df-95e8-2eaad124455b",
   "metadata": {},
   "source": [
    "# <font color=deepskyblue>Topic 3: Algorithms and Programming Techniques</font>"
   ]
  },
  {
   "cell_type": "markdown",
   "id": "80a65c27-770e-4914-9d0e-8c5bcde37e4d",
   "metadata": {},
   "source": [
    "---\n",
    "## <font color=deepskyblue>1.3.8 Development Environment</font>\n",
    "\n",
    "- <font color=orangered>*explore programming development tools to understand how to use them effectively*</font>\n",
    "- <font color=orangered>*explore the use of a procedural text-based language for writing and modifying code and using existing code blocks or statements*</font>\n",
    "\n",
    "<font color=green>*TLDR - *</font>"
   ]
  },
  {
   "cell_type": "markdown",
   "id": "6615d4ef-4847-4c0e-b69d-30a4ca616e5c",
   "metadata": {},
   "source": [
    "### <font color=deepskyblue>Programming Language</font>\n",
    "\n",
    "#### <font color=deepskyblue>Packages</font>\n",
    "\n",
    "#### <font color=deepskyblue>Virtual Environments</font>"
   ]
  },
  {
   "cell_type": "markdown",
   "id": "e23ea2e5-893d-4639-8698-de0a761cd7a9",
   "metadata": {},
   "source": [
    "### <font color=deepskyblue>Integrated Development Environment</font>\n",
    "\n",
    "#### <font color=deepskyblue>Themes</font>"
   ]
  },
  {
   "cell_type": "markdown",
   "id": "df887f20-aee5-4837-aedb-b5dda5d37b09",
   "metadata": {},
   "source": [
    "### <font color=deepskyblue>Other Tools</font>\n",
    "\n",
    "#### <font color=deepskyblue>Github Desktop</font>\n",
    "\n",
    "\n",
    "#### <font color=deepskyblue>Git</font>\n",
    "\n",
    "\n",
    "#### <font color=deepskyblue>Diagrams.net</font>\n",
    "\n",
    "\n",
    "#### <font color=deepskyblue>DB Browser</font>\n",
    "\n",
    "\n",
    "#### <font color=deepskyblue>Qt Designer</font>"
   ]
  },
  {
   "cell_type": "code",
   "execution_count": null,
   "id": "834cb461-d522-4d64-a52c-202c6b1bc57a",
   "metadata": {},
   "outputs": [],
   "source": []
  }
 ],
 "metadata": {
  "kernelspec": {
   "display_name": "Python 3 (ipykernel)",
   "language": "python",
   "name": "python3"
  },
  "language_info": {
   "codemirror_mode": {
    "name": "ipython",
    "version": 3
   },
   "file_extension": ".py",
   "mimetype": "text/x-python",
   "name": "python",
   "nbconvert_exporter": "python",
   "pygments_lexer": "ipython3",
   "version": "3.10.0"
  }
 },
 "nbformat": 4,
 "nbformat_minor": 5
}
