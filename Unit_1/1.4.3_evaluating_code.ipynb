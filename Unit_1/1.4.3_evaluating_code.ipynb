{
 "cells": [
  {
   "cell_type": "markdown",
   "id": "2fe73de4-f3f8-44bb-a237-4f55f424a222",
   "metadata": {},
   "source": [
    "# <font color=darkorange>Topic 4: Programmed Solutions</font>"
   ]
  },
  {
   "cell_type": "markdown",
   "id": "e47280db-bbdd-47d0-9fea-54ebcf6c2f96",
   "metadata": {},
   "source": [
    "## <font color=deepskyblue>1.4.3 Evaluating Code</font>\n",
    "\n",
    "- <font color=orangered>*evaluate and make recommendations about the use of programming language rules and syntax for a given problem*</font>\n",
    "- <font color=orangered>*evaluate and make recommendations about algorithmic steps using debugging processes, e.g. desk checks*</font>\n",
    "- <font color=orangered>*evaluate and make recommendations about the effectiveness of algorithms*</font>\n",
    "- <font color=orangered>*evaluate and make recommendations about the end result of code statements using input or output evidence*</font>\n",
    "- <font color=orangered>*evaluate and make recommendations about the user interface based on useability principles including accessibility, effectiveness, safety, utility and learnability*</font>\n",
    "\n",
    "<font color=green>*TLDR - *</font>\n",
    "\n",
    "In Digital Solutions, evaluation is an on-going process. It happens at every stage of the development cycle, and helps inform the final design of the solution.\n",
    "\n",
    "To evaluated you need to do four things:\n",
    "\n",
    "1. **address specific components** - these will be depending on the assessment instrument, and will be listed in the criteria sheet.\n",
    "2. **against a criteria** - this will be the criteria that you have established during your Exploration and Design phases\n",
    "3. **make recommendations** - the evaluation should generate recommendations on how to improve\n",
    "4. **justify with data** - you need to record the evaluations. This data may be test-user surveys, testing records or personal ratings."
   ]
  },
  {
   "cell_type": "markdown",
   "id": "f760ec0a-19f8-46d5-b77d-ef5eb5debf3c",
   "metadata": {},
   "source": [
    "---\n",
    "### <font color=deepskyblue>Language Rules and Syntax</font>\n",
    "\n",
    "When it comes to language rules and synatx "
   ]
  },
  {
   "cell_type": "markdown",
   "id": "a233a579-8bd3-467e-81d2-6e3e29b0b171",
   "metadata": {},
   "source": [
    "---\n",
    "### <font color=deepskyblue>Desk Checking</font>"
   ]
  },
  {
   "cell_type": "markdown",
   "id": "e85f7ed1-49f8-4256-b270-021bf6a72a95",
   "metadata": {},
   "source": [
    "---\n",
    "### <font color=deepskyblue>Effectiveness</font>\n"
   ]
  },
  {
   "cell_type": "markdown",
   "id": "4449c0d7-280a-416e-a2fe-ce928170778c",
   "metadata": {},
   "source": [
    "---\n",
    "### <font color=deepskyblue>User Interface</font>"
   ]
  },
  {
   "cell_type": "markdown",
   "id": "e2151a71-0167-4ea4-b187-2ea9305aa449",
   "metadata": {},
   "source": [
    "---\n",
    "### <font color=deepskyblue>Components</font>\n"
   ]
  }
 ],
 "metadata": {
  "kernelspec": {
   "display_name": "Python 3 (ipykernel)",
   "language": "python",
   "name": "python3"
  },
  "language_info": {
   "codemirror_mode": {
    "name": "ipython",
    "version": 3
   },
   "file_extension": ".py",
   "mimetype": "text/x-python",
   "name": "python",
   "nbconvert_exporter": "python",
   "pygments_lexer": "ipython3",
   "version": "3.10.0"
  }
 },
 "nbformat": 4,
 "nbformat_minor": 5
}
