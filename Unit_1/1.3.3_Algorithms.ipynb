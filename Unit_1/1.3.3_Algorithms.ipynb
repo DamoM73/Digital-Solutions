{
 "cells": [
  {
   "cell_type": "markdown",
   "id": "4b60bee2-a40b-43df-95e8-2eaad124455b",
   "metadata": {},
   "source": [
    "# <font color=deepskyblue>Topic 3: Algorithms and Programming Techniques</font>"
   ]
  },
  {
   "cell_type": "markdown",
   "id": "25ae23d3-1ac9-4f4a-a2e8-99300c19c4ae",
   "metadata": {},
   "source": [
    "---\n",
    "## <font color=deepskyblue>1.3.3 Algorithms</font>\n",
    "\n",
    "- <font color=orangered>*understand and use the basic algorithm constructs - assignment, sequence, selection, condition, iteration, and modularisation*</font>\n",
    "- <font color=orangered>*explore functions and procedures with efficient and maintainable code that includes reuseable coded components*</font>\n",
    "- <font color=orangered>*explore functions and procedures with efficient and maintainable code that responds to keyboard and mouse events*</font>\n",
    "- <font color=orangered>*explore functions and procedures with efficient and maintainable code that uses variables, selection structures, counted loops, while loops and single, multi-branch and nested conditional logic/statements*</font>\n",
    "- <font color=orangered>*explore functions and procedures with efficient and maintainable code that uses operators, including arithmetic (+, –, \\*, /, integer, modulus, exponent), comparison (\\<, \\>, \\<=, \\>=, equal, not equal) and logical (AND, OR, NOT)*</font>\n",
    "- <font color=orangered>*explore the purpose of code statements by writing code and using existing code blocks or statements*</font>\n",
    "- <font color=orangered>*explore object/event triggers and develop explanations about their effect/s on user interfaces*</font>\n",
    "\n",
    "<font color=green>*TLDR - All algorithms are made up of assignment, sequence, selection, condition, iteration, and modularisation*</font>\n",
    "\n",
    "There are 6 basic building blocks that an algorithm consists of. Each of them serve a particular purpose. "
   ]
  },
  {
   "cell_type": "markdown",
   "id": "0b5ddfa3-37e5-4b16-9e8a-ff7b9e35c901",
   "metadata": {},
   "source": [
    "---\n",
    "### <font color=deepskyblue>Sequence</font>\n",
    "\n",
    "A sequence is a number of instructions that are processed one after the other. For example, a very simple algorithm for brushing teeth might consist of these steps:\n",
    "1. put toothpaste on toothbrush\n",
    "2. use toothbrush to clean teeth\n",
    "3. rinse toothbrush\n",
    "\n",
    "Each step is an instruction to be performed. Sequencing is the order in which the steps are carried out.\n",
    "\n",
    "#### <font color=deepskyblue>Why is sequencing important?</font>\n",
    "\n",
    "It is crucial that the steps in an algorithm are performed in the right order - otherwise the algorithm will not work correctly. Suppose the steps for the teeth-cleaning algorithm were in this sequence:\n",
    "1. use toothbrush to clean teeth\n",
    "2. put toothpaste on toothbrush\n",
    "3. rinse toothbrush\n",
    "\n",
    "A toothbrush would still be used to clean the teeth and toothpaste would still be put on the brush. But because steps 1 and 2 are in the wrong sequence the teeth wouldn't get cleaned with the toothpaste, and the toothpaste would be wasted. A human would realise they had forgotten to add toothpaste at the start of the process, but a computer would not know that anything was wrong. A computer can only do what it is programmed to do. If the steps are programmed in the wrong sequence, the computer will perform the tasks in this sequence – even if this is incorrect.\n",
    "\n",
    "In Python sequences occur within the same block of code. Put another way, sequences are the default and will occur unless an indent is present. Read the comments in the code below to identify the sequences."
   ]
  },
  {
   "cell_type": "code",
   "execution_count": null,
   "id": "48024245-a6fa-49aa-af7d-13e8d0cd61d1",
   "metadata": {},
   "outputs": [],
   "source": [
    "# the code below is a sequence\n",
    "user_num = int(input(\"Enter a number> \"))\n",
    "new_num = user_num ** 2\n",
    "if new_num > 100:\n",
    "    # this indent indicates a new block. Within the block the code runs in sequence\n",
    "    print(f\"The original number was {user_num}\")\n",
    "    print(f\"The square of {user_num} is more than 100\")\n",
    "else:\n",
    "    # this indent indicates a new block. Within the block the code runs in sequence\n",
    "    print(f\"The original number was {user_num}\")\n",
    "    print(f\"The square of {user_num} is not more than 100\")"
   ]
  },
  {
   "cell_type": "markdown",
   "id": "19298bbc-917c-48cb-bb9a-20dd3a844561",
   "metadata": {},
   "source": [
    "---\n",
    "### <font color=deepskyblue>Assignment</font>\n",
    "Assignment is used to store the value of an expression into a variable. \n",
    "\n",
    "A variable is a label that a computer uses to remember certain values or pieces of information. They are similiar to the variables that you would have seen in maths e.g. x=5. In programming, this is exactly the same idea, except computers can remember anything not just numbers, and additionally, the variables are generally given more meaningful names that relate to the data they contain e.g. \n",
    "\n",
    "`student_name = \"Tom\"`\n",
    "\n",
    "Assignment is the way that a variable is told to remember a certain value. \n",
    "\n",
    "In Python assignment is done with `=` symbol. Unlike other languages, Python declares a variable when you assign it, so you only need one statement."
   ]
  },
  {
   "cell_type": "code",
   "execution_count": null,
   "id": "df9136e2-89e8-4216-b8a4-115cfa8fada5",
   "metadata": {},
   "outputs": [],
   "source": [
    "student_name = \"Tom\"    # assigning a string\n",
    "age = 14                # assigning an integer\n",
    "gpa = 4.5               # assigning a float\n",
    "present = True          # assigning a boolean"
   ]
  },
  {
   "cell_type": "markdown",
   "id": "d4b75cef-519d-4e3c-95be-fec41a70801b",
   "metadata": {
    "tags": []
   },
   "source": [
    "### <font color=deepskyblue>Condition</font>\n",
    "\n",
    "A condition is the way that a computer asks a question. Computers can only generate two possible  responses to questions. Yes and No, or more precisely, True and False. A more formal definition is that a condition is a logical expression that evaluates to true or false. \n",
    "\n",
    "In Python, conditions are part of `if` and `while` statements. They have the syntax of `value` `operator` `value` with six possible operators:\n",
    "\n",
    "- Equals: a == b\n",
    "- Not Equals: a != b\n",
    "- Less than: a < b\n",
    "- Less than or equal to: a <= b\n",
    "- Greater than: a > b\n",
    "- Greater than or equal to: a >= b"
   ]
  },
  {
   "cell_type": "code",
   "execution_count": null,
   "id": "c3252a75-9256-46f4-9667-4c9b9b00494f",
   "metadata": {},
   "outputs": [],
   "source": [
    "# a condition make a test and returns a True or False run this code to see the results of a condition\n",
    "\n",
    "5 > 6"
   ]
  },
  {
   "cell_type": "markdown",
   "id": "38389d0b-3a82-46d4-937c-1541b523c519",
   "metadata": {},
   "source": [
    "### <font color=deepskyblue>Selection</font>\n",
    "\n",
    "A selection statement uses a condition to select, or determine, the next line of the program that is to be executed. These statements help to make decisions and change the flow of a program. In Python, there are four types of selection statements:\n",
    "\n",
    "```\n",
    "if\n",
    "\n",
    "if...else\n",
    "\n",
    "if...elif...else\n",
    "\n",
    "match\n",
    "```\n",
    "\n",
    "### <font color=deepskyblue>Selection</font>"
   ]
  },
  {
   "cell_type": "code",
   "execution_count": null,
   "id": "84e1e5c8-abc8-4b99-87a6-f4908033fbdc",
   "metadata": {},
   "outputs": [],
   "source": [
    "\n",
    "\n",
    "### <font color=deepskyblue>Iteration</font>\n",
    "\n",
    "\n",
    "### <font color=deepskyblue>Modularisation</font>\n",
    "\n"
   ]
  }
 ],
 "metadata": {
  "kernelspec": {
   "display_name": "Python 3 (ipykernel)",
   "language": "python",
   "name": "python3"
  },
  "language_info": {
   "codemirror_mode": {
    "name": "ipython",
    "version": 3
   },
   "file_extension": ".py",
   "mimetype": "text/x-python",
   "name": "python",
   "nbconvert_exporter": "python",
   "pygments_lexer": "ipython3",
   "version": "3.10.1"
  }
 },
 "nbformat": 4,
 "nbformat_minor": 5
}
