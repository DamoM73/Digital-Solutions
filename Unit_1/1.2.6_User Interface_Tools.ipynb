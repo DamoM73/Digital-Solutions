{
 "cells": [
  {
   "cell_type": "markdown",
   "id": "f3cb42bb-d05d-4ee9-abaa-e2f6dfcf11bc",
   "metadata": {},
   "source": [
    "# <font color=darkorange>Unit 1 Topic 2: User Experience and Interfaces</font>"
   ]
  },
  {
   "cell_type": "markdown",
   "id": "4313e3e9-724c-48f6-8189-2eb8172ff514",
   "metadata": {},
   "source": [
    "## <font color=deepskyblue>1.2.6 User Interface Tools</font>\n",
    "\n",
    "- <font color=orangered>*generate user interfaces by investigating and applying useability principles*</font>\n",
    "\n",
    "<font color=green>*TLDR - *</font>\n",
    "\n",
    "In this course we will use two tools for designing and creating User Interfaces: Adobe XD and QT Designer. "
   ]
  },
  {
   "cell_type": "markdown",
   "id": "d8307e4c-dd99-4f8b-88b3-1d7f166ae06b",
   "metadata": {},
   "source": [
    "---\n",
    "### <font color=deepskyblue>Adobe XD</font>\n",
    "\n",
    "Adobe XD is part of teh Adobe Creative Cloud. Your school credentials provides two licenses for a range of Adobe Products. [Download and install Creative Cloud](https://creativecloud.adobe.com/en/apps/download/creative-cloud), log in using your school account and then choose to install Adobe XD\n",
    "\n",
    "With Adobe XD you can create:\n",
    "- Wireframes\n",
    "- Mockups\n",
    "- Prototypes\n",
    "- Application interface flowcharts\n",
    "\n",
    "This is the tool that you will use for FIA1 and IA1\n",
    "\n",
    "Adobe provides a [a range of tutorials](https://www.adobe.com/au/products/xd/learn/get-started.html) to get you started."
   ]
  },
  {
   "cell_type": "markdown",
   "id": "8d3e604b-ec9c-4219-9a87-2ec863ed77d0",
   "metadata": {},
   "source": [
    "---\n",
    "### <font color=deepskyblue>Adobe XD</font>\n",
    "\n",
    "Adobe XD is part of teh Adobe Creative Cloud. Your school credentials provides two licenses for a range of Adobe Products. [Download and install Creative Cloud](https://creativecloud.adobe.com/en/apps/download/creative-cloud), log in using your school account and then choose to install Adobe XD\n",
    "\n",
    "With Adobe XD you can create:\n",
    "- Wireframes\n",
    "- Mockups\n",
    "- Prototypes\n",
    "- Application interface flowcharts\n",
    "\n",
    "This is the tool that you will use for FIA1 and IA1\n",
    "\n",
    "Adobe provides a [a range of tutorials](https://www.adobe.com/au/products/xd/learn/get-started.html) to get you started."
   ]
  },
  {
   "cell_type": "markdown",
   "id": "88445f76-e1c8-4793-b311-64a2a7cef3eb",
   "metadata": {},
   "source": [
    "---\n",
    "### <font color=deepskyblue>QT Designer</font>\n",
    "\n",
    "We will be using PyQt6 to develop our Digital Solutions in FIA2 and IA2. PyQt is the Python Library for Qt (a cross platform GUI framework). Qt Designer is a WYSIWYG (what you see is what you get) program to assist in the development of a Qt user interface. The developer uses Qt Designer to create the components of the UI and save them in a .ui file. This file is then converted into Python for use in the application. We will explore this conversion and subsequent coding in Topic 4. \n",
    "\n",
    "For UI purposes, you will need to [download and install Qt Designer](### <font color=deepskyblue>Adobe XD</font>)\n",
    "\n",
    "We will use Qt Designer to create:\n",
    "- Mockups\n",
    "- Prototypes\n",
    "- Application interface flowcharts\n",
    "- The GUI for your application\n",
    "\n",
    "Below are some tutorials for learning how to use QT Designer. Ignore instructions on installing, and converting the file into Python. We will deal with that in Topic 4.\n",
    "- [Qt Designer and Python: Build Your GUI Applications Faste0(r](https://realpython.com/qt-designer-python/)\n",
    "- [Qt Designer - PyQt with Python GUI Programming tutorial](https://www.youtube.com/watch?v=Dmo8eZG5I2w)\n",
    "- [Qt Designer Manual](https://doc.qt.io/qt-5/qtdesigner-manual.html)"
   ]
  }
 ],
 "metadata": {
  "kernelspec": {
   "display_name": "Python 3 (ipykernel)",
   "language": "python",
   "name": "python3"
  },
  "language_info": {
   "codemirror_mode": {
    "name": "ipython",
    "version": 3
   },
   "file_extension": ".py",
   "mimetype": "text/x-python",
   "name": "python",
   "nbconvert_exporter": "python",
   "pygments_lexer": "ipython3",
   "version": "3.10.1"
  }
 },
 "nbformat": 4,
 "nbformat_minor": 5
}
