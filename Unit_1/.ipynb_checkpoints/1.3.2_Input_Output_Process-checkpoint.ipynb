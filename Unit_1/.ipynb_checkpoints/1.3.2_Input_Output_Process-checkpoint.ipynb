{
 "cells": [
  {
   "cell_type": "markdown",
   "id": "4b60bee2-a40b-43df-95e8-2eaad124455b",
   "metadata": {},
   "source": [
    "# <font color=darkorange>Topic 3: Algorithms and Programming Techniques</font>"
   ]
  },
  {
   "cell_type": "markdown",
   "id": "069656f0-aa91-4592-ba49-168e9057c5f6",
   "metadata": {},
   "source": [
    "---\n",
    "## <font color=deepskyblue>1.3.2 Input, Process, Output</font>\n",
    "\n",
    "- <font color=orangered>*understand that simple algorithms consist of input, process and output at various stages*</font>\n",
    "\n",
    "<font color=green>*TLDR - Every block of code consists of Input -> Process -> Output*</font>\n",
    "\n",
    "In Topic 1 we defined digital systems of which consists of input, process and output (IPO), and we related that to the an overall digital solution. We later looked at computational thinking and in particular decomposition and abstraction. When you apply decomposition to a digital solution's algorithm, you establish that any digital solution is a complex series of algorithms, each with its own IPO.\n",
    "\n",
    "Run and consider the code below:"
   ]
  },
  {
   "cell_type": "code",
   "execution_count": null,
   "id": "45add7ea-8093-44d5-958c-8a85a4943207",
   "metadata": {},
   "outputs": [],
   "source": [
    "def get_number(prompt):\n",
    "    user_input = \"\"\n",
    "    while not user_input.isdigit():\n",
    "        user_input = input(prompt+\"> \")\n",
    "    return int(user_input)\n",
    "    \n",
    "num_a = get_number(\"Enter 1st number\")\n",
    "num_b = get_number(\"Enter 2nd number\")\n",
    "\n",
    "total = num_a + num_b\n",
    "\n",
    "print(total)"
   ]
  },
  {
   "cell_type": "markdown",
   "id": "2008f324-ed62-4982-b9a8-bc259a452317",
   "metadata": {},
   "source": [
    "The IPO table below represents the top level algorithm\n",
    "\n",
    "|Input|Process|Output|\n",
    "|----|-------|------|\n",
    "|User enters two numbers  |Numbers are added together  |Total is displayed to terminal  |\n",
    "\n",
    "We can see in the code, that there is much more happening. Let decompose the digital solution and look at some of the parts.\n",
    "\n",
    "\n",
    "The IPO table below represents the `get_number` function\n",
    "\n",
    "|Input|Process|Output|\n",
    "|----|-------|------|\n",
    "|Prompt  |Display prompt  |User input |\n",
    "| |Get user input  | |\n",
    "| |Check if input is a digit  | |\n",
    "| |Convert input to integer | |\n",
    "\n",
    "\n",
    "Even this can be broken down more. Consider line 4 `user_input = input(prompt+\"> \")`\n",
    "\n",
    "|Input|Process|Output|\n",
    "|----|-------|------|\n",
    "|prompt |concatenate \"> \" to the prompt |display prompt in terminal |\n",
    "|user input |accept user input | save user input to variable |\n",
    "\n",
    "And this can keep going.\n",
    "\n",
    "The important part is the thinking behind developing your algorithms.\n",
    "1. Output - What output do I want?\n",
    "2. Input - What input do I have?\n",
    "3. Process - What do I need to do to get from output to input?"
   ]
  }
 ],
 "metadata": {
  "kernelspec": {
   "display_name": "Python 3 (ipykernel)",
   "language": "python",
   "name": "python3"
  },
  "language_info": {
   "codemirror_mode": {
    "name": "ipython",
    "version": 3
   },
   "file_extension": ".py",
   "mimetype": "text/x-python",
   "name": "python",
   "nbconvert_exporter": "python",
   "pygments_lexer": "ipython3",
   "version": "3.10.1"
  }
 },
 "nbformat": 4,
 "nbformat_minor": 5
}
