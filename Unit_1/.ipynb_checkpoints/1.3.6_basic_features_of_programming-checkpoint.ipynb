{
 "cells": [
  {
   "cell_type": "markdown",
   "id": "4b60bee2-a40b-43df-95e8-2eaad124455b",
   "metadata": {},
   "source": [
    "# <font color=deepskyblue>Topic 3: Algorithms and Programming Techniques</font>"
   ]
  },
  {
   "cell_type": "markdown",
   "id": "a4ce6354-87d4-403f-a2ed-43ba6aa436b0",
   "metadata": {},
   "source": [
    "---\n",
    "## <font color=deepskyblue>1.3.6 Basic Features of Programming</font>\n",
    "\n",
    "- <font color=orangered>*understand basic features of programming - variables, control structures, data structures, syntax, libraries, and classes*</font>\n",
    "- <font color=orangered>*identify and describe the scope and use of local and global variables*</font>\n",
    "- <font color=orangered>*identify and describe code object/event triggers and their effect on user interfaces*</font>\n",
    "\n",
    "<font color=green>*TLDR - Program are made up of six basic feature:  variables, control structures, data structures, syntax, libraries, and classes*</font>\n",
    "\n",
    "Programs are created using six basic features. The skill of a programmer is knowing when and how to use these features."
   ]
  },
  {
   "cell_type": "markdown",
   "id": "9cbf93ac-49a9-4364-a44c-3efcf3838ac7",
   "metadata": {},
   "source": [
    "---\n",
    "### <font color=deepskyblue>Variables</font>\n",
    "\n",
    "Variables are the names you give to computer memory locations which are used to store values in a computer program.\n",
    "\n",
    "In statically typed languages such as Java , a variable also has a type, meaning that only certain kinds of values can be stored in it. For example, a variable of type \"integer\" is \n",
    "prohibited from storing text values. In dynamically typed languages such as Python, they are values, not variables, which carry type."
   ]
  },
  {
   "cell_type": "markdown",
   "id": "c0f7013d-a92b-4388-a82e-a524e7817fe4",
   "metadata": {},
   "source": [
    "---\n",
    "### <font color=deepskyblue>Control Structures</font>\n",
    "\n",
    "Flow of control through any given function is implemented with three basic types of control structures:\n",
    "- **Sequential** - default mode. Sequential execution of code statements (one line after another) -- like following a recipe\n",
    "- **Selection** - used for decisions, branching (choosing between 2 or more alternative paths). \n",
    "- **Repetition** - used for looping, i.e. repeating a piece of code multiple times in a row."
   ]
  },
  {
   "cell_type": "markdown",
   "id": "388dd2b6-a9db-45ee-9d7d-590c57b06848",
   "metadata": {},
   "source": [
    "---\n",
    "### <font color=deepskyblue>Data Structures</font>\n",
    "\n",
    "Data structures are used to store data in an organized form. No matter what problem are you solving, in one way or another you have to deal with data — whether it's an employee's salary, stock prices, a grocery list, or even a simple telephone directory.\n",
    "\n",
    "Based on different scenarios, data needs to be stored in a specific format. In Python we will deal with four data structures:\n",
    "- lists\n",
    "- tuples\n",
    "- sets\n",
    "- dictionaries\n",
    "\n",
    "#### <font color=deepskyblue>Lists</font>\n",
    "\n",
    "A list is defined as an ordered collection of items, and it is one of the essential data structures when using Python. The term \"ordered collections\" means that each item in a list comes with an order that uniquely identifies them. When creating a list, all the items in the list should be put in square brackets `[` `]` and separated by commas to let Python know that a list has been created.\n",
    "\n",
    "Here's an example of a list of size 4 `[1,2,3,4]`.\n",
    "\n",
    "Each data element is assigned a positive numerical value called the Index, which corresponds to the position of that item in the array. The starting index of the list is 0.\n",
    "\n",
    "Lists can be nested, which means that it can contain any type of object, including other lists.\n",
    " \n",
    "Lists are mutable, which means they can be altered even after being created. A user can search, add, shift, move, and delete elements from a list at their own will. When replacing elements in a list, the number of elements added does not need to be equal to the number of elements, and Python will adjust itself as needed. Mutability also enables the user to input additional elements into the list without making any replacements.\n",
    "\n",
    "#### <font color=deepskyblue>Tuples</font>\n",
    "\n",
    "A tuple is an ordered collection of objects. Unlike lists, tuples come with limited functionality.\n",
    "\n",
    "The primary differing characteristic between lists and tuples is mutability. Lists are mutable, whereas tuples are immutable. Tuples cannot be modified, added, or deleted once they've been created. Lists are defined by using parentheses `(` `)` to enclose the elements, which are separated by commas.\n",
    "\n",
    "Here's an example of a tuple of size 4 `(1,2,3,4)`.\n",
    "\n",
    "When writing a tuple with only a single element, the coder must use a comma after the item, for example `(1,)`.\n",
    "\n",
    "Reasons for using tuples instead of list:\n",
    "- when the developer does not want the data to be modified \n",
    "- when speed is important as tuples use less memory, and they make program execution faster than using lists.\n",
    "\n",
    "#### <font color=deepskyblue>Sets</font>\n",
    "\n",
    "A set is defined as a unique collection of unique elements that do not follow a specific order. \n",
    "\n",
    "Sets are used when the existence of an object in a collection of objects is more important than the number of times it appears or the order of the objects. \n",
    "\n",
    "Unlike tuples, sets are mutable – they can be modified, added, replaced, or removed. They are defined by using curly brackets `{` `}` to enclose the elements, which are separated by commas.\n",
    "\n",
    "Here's an example of a set of size 4 `{1,2,3,4}`.\n",
    "\n",
    "One of the ways that sets are used is when checking whether or not some elements are contained in a set or not. \n",
    "\n",
    "#### <font color=deepskyblue>Dictionaries</font>\n",
    "\n",
    "Dictionaries in Python is an ordered collection of key-value pairs. Each key-value pair maps the key to its associated value. Dictionaries are mutable – they can be modified, added, replaced, or removed. They are defined by using curly brackets `{` `}` to enclose the elements, with a colon `:` separating a key and its value, and each key-pair separated by commas.\n",
    "\n",
    "Here's an example of a dictionary of size 4 `{\"Doh\":\"Doherty\",\"Dun\":\"Dunlop\",\"Fly\":\"Flynn\",\"Nic\":\"Nichols\"}`.\n",
    "\n",
    "Dictionaries should be used when the data has a unique reference that can be associated with the value."
   ]
  },
  {
   "cell_type": "markdown",
   "id": "9dccb8db-1831-4741-b2b2-4d4316adeb2b",
   "metadata": {},
   "source": [
    "---\n",
    "### <font color=deepskyblue>Syntax</font>\n",
    "The syntax of a computer language is the set of rules that defines the combinations of symbols that are considered to be correctly structured statements or expressions in that language. This applies both to programming languages, where the document represents source code, and to markup languages, where the document represents data."
   ]
  },
  {
   "cell_type": "markdown",
   "id": "dd6e8836-c209-4adc-929f-b877402a4e1f",
   "metadata": {},
   "source": [
    "---\n",
    "\n",
    "### <font color=deepskyblue>Libraries</font>\n",
    "A software library refers to a collection of files, programs, routines, scripts, or functions referenced in the programming code. Python comes with a standard library which provides basic functionality. Python allows you to install additional libraries, as well as create your own."
   ]
  },
  {
   "cell_type": "markdown",
   "id": "3f4a68b0-b2a8-443b-868d-a9ad9e5f7d28",
   "metadata": {},
   "source": [
    "---\n",
    "### <font color=deepskyblue>Classes</font>\n",
    "Classes and object are basic building blocks in object-oriented programming languages. A class is written by a programmer in a defined structure to create an object in an object-oriented programming language. It defines a set of properties and methods that are common to all objects of one type.\n",
    "\n",
    "For example, a class could be a car, which could have a color field, four tire fields, and a drive method. \n",
    "\n",
    "Another related class could be a truck, which would have similar fields, but not be exactly the same as a car. Both a car and a truck could be a kind of a third class which could be called a vehicle class. In this way, the programmer could create the parts of the program that are the same for both the car and the truck in programming the vehicle class, yet the programmer would be free to program how a car is different from a truck without duplicating all of the programming.\n",
    "\n",
    "Although there is only one class called \"car\", there could be many objects that are created from the class called \"car\". And, although there is only one class that is called \"truck\", many objects of type truck could be created from this class. The class, vehicle, is actually general and there would probably not be any objects that were only of the class \"vehicle\". \n",
    "\n",
    "Inside of classes are two kinds of things: \n",
    "- **methods** - can store the code for doing actions; in this example you could have a drive method and a brake method, and maybe a turnRight and turnLeft method. \n",
    "- **atributes** - store data; you could have a color field, a speed field and a size field. \n",
    "\n",
    "You can call methods by first making an object of the Car or Truck class, and call it for example ferrari, and doing ferrari.methodName(). In this case, if we wanted to make the vehicle move, we could do ferrari.drive(distance)."
   ]
  },
  {
   "cell_type": "markdown",
   "id": "151fa2e6-6b4d-4362-92c5-c9d6d2df6398",
   "metadata": {},
   "source": [
    "---\n",
    "### <font color=deepskyblue>Additional features</font>\n",
    "\n",
    "#### <font color=deepskyblue>Scope: Local and Global Variables</font>\n",
    "\n",
    "In programming, the scope of a name defines the area of a program in which you can unambiguously access that name, such as variables, functions, objects, and so on. A name will only be visible to and accessible by the code in its scope. Several programming languages take advantage of scope for avoiding name collisions and unpredictable behaviors. Most commonly, you'll distinguish two general scopes:\n",
    "\n",
    "- Global scope: The names that you define in this scope are available to all your code.\n",
    "- Local scope: The names that you define in this scope are only available or visible to the code within the scope.\n",
    "\n",
    "Scope came about because early programming languages (like BASIC) only had global names. With this kind of name, any part of the program could modify any variable at any time, so maintaining and debugging large programs could become a real nightmare. To work with global names, you'd need to keep all the code in mind at the same time to know what the value of a given name is at any time. This was an important side-effect of not having scopes.\n",
    "\n",
    "Some languages like Python use scope to avoid this kind of problem. When you use a language that implements scope, there's no way for you to access all the variables in a program at all locations in that program. In this case, your ability to access a given name will depend on where you've defined that name.\n",
    "\n",
    "##### <font color=deepskyblue>Using the LEGB Rule for Python Scope</font>\n",
    "\n",
    "Python resolves names using the so-called LEGB rule, which is named after the Python scope for names. The letters in LEGB stand for Local, Enclosing, Global, and Built-in. Here's a quick overview of what these terms mean:\n",
    "\n",
    "- **Local (or function) scope** - the code block or body of any Python function or lambda expression. This Python scope contains the names that you define inside the function. These names will only be visible from the code of the function. It's created at function call, not at function definition, so you'll have as many different local scopes as function calls. This is true even if you call the same function multiple times, or recursively. Each call will result in a new local scope being created.\n",
    "\n",
    "- **Enclosing (or nonlocal) scope** - a special scope that only exists for nested functions. If the local scope is an inner or nested function, then the enclosing scope is the scope of the outer or enclosing function. This scope contains the names that you define in the enclosing function. The names in the enclosing scope are visible from the code of the inner and enclosing functions.\n",
    "\n",
    "- **Global (or module) scope** -the top-most scope in a Python program, script, or module. This Python scope contains all of the names that you define at the top level of a program or a module. Names in this Python scope are visible from everywhere in your code.\n",
    "\n",
    "- **Built-in scope** - a special Python scope that's created or loaded whenever you run a script or open an interactive session. This scope contains names such as keywords, functions, exceptions, and other attributes that are built into Python. Names in this Python scope are also available from everywhere in your code. It's automatically loaded by Python when you run a program or script.\n",
    "\n",
    "The LEGB rule is a kind of name lookup procedure, which determines the order in which Python looks up names. For example, if you reference a given name, then Python will look that name up sequentially in the local, enclosing, global, and built-in scope. If the name exists, then you'll get the first occurrence of it. Otherwise, you'll get an error.\n",
    "\n",
    "##### <font color=deepskyblue>Scope limitations on actions</font>\n",
    "\n",
    "|Action|Global Code|Local Code|Nested Function Code|\n",
    "|:-----|-----------|-----------|--------------------|\n",
    "|Access or reference names that live in the global scope|Yes|Yes|Yes|\n",
    "|Modify or update names that live in the global scope|Yes|No (unless declared global)|No (unless declared global)|\n",
    "|Access or reference names that live in a local scope|No|Yes (its own local scope),No (other local scope)|Yes (its own local scope), No (other local scope)|\n",
    "|Override names in the built-in scope|Yes|Yes (during function execution)|Yes (during function execution)|\n",
    "|Access or reference names that live in their enclosing scope|N/A|N/A|Yes\n",
    "|Modify or update names that live in their enclosing scope|N/A|N/A|No (unless declared nonlocal)|\n",
    "\n",
    "#### <font color=deepskyblue>Event Triggers</font>\n",
    "\n",
    "Events are “things” that happen as a result of something occurring. On a webpage, an event can be something that the browser does or something that the user does.\n",
    "\n",
    "These can include things like the web page finishing loading, text being typed into an input box or a button being clicked.\n",
    "\n",
    "Many languages call certain code be executed as a result of a certain event occurring. Webpages allow event handler attributes, with JavaScript code, to be added to HTML elements"
   ]
  }
 ],
 "metadata": {
  "kernelspec": {
   "display_name": "Python 3 (ipykernel)",
   "language": "python",
   "name": "python3"
  },
  "language_info": {
   "codemirror_mode": {
    "name": "ipython",
    "version": 3
   },
   "file_extension": ".py",
   "mimetype": "text/x-python",
   "name": "python",
   "nbconvert_exporter": "python",
   "pygments_lexer": "ipython3",
   "version": "3.10.1"
  }
 },
 "nbformat": 4,
 "nbformat_minor": 5
}
