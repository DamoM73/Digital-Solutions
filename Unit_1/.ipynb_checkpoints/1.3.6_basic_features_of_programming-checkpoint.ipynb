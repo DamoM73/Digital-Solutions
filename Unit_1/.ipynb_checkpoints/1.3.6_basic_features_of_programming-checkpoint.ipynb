{
 "cells": [
  {
   "cell_type": "markdown",
   "id": "4b60bee2-a40b-43df-95e8-2eaad124455b",
   "metadata": {},
   "source": [
    "# <font color=deepskyblue>Topic 3: Algorithms and Programming Techniques</font>"
   ]
  },
  {
   "cell_type": "markdown",
   "id": "a4ce6354-87d4-403f-a2ed-43ba6aa436b0",
   "metadata": {},
   "source": [
    "---\n",
    "## <font color=deepskyblue>1.3.6 Basic Features of Programming</font>\n",
    "\n",
    "- <font color=orangered>*understand basic features of programming - variables, control structures, data structures, syntax, libraries, and classes*</font>\n",
    "- <font color=orangered>*identify and describe the scope and use of local and global variables*</font>\n",
    "- <font color=orangered>*identify and describe code object/event triggers and their effect on user interfaces*</font>\n",
    "\n",
    "<font color=green>*TLDR - *</font>\n",
    "\n",
    "### <font color=deepskyblue>Variables</font>\n",
    "\n",
    "\n",
    "### <font color=deepskyblue>Control Structures</font>\n",
    "\n",
    "\n",
    "### <font color=deepskyblue>Data Structures</font>\n",
    "\n",
    "\n",
    "### <font color=deepskyblue>Syntax</font>\n",
    "\n",
    "\n",
    "### <font color=deepskyblue>Libraries</font>\n",
    "\n",
    "\n",
    "### <font color=deepskyblue>Classes</font>\n",
    "\n",
    "\n",
    "### <font color=deepskyblue>Local and Global Variables</font>\n",
    "\n",
    "\n",
    "### <font color=deepskyblue>Event Triggers</font>"
   ]
  },
  {
   "cell_type": "code",
   "execution_count": null,
   "id": "48a3ab2a-00f3-416d-bff3-83a60b419584",
   "metadata": {},
   "outputs": [],
   "source": []
  }
 ],
 "metadata": {
  "kernelspec": {
   "display_name": "Python 3 (ipykernel)",
   "language": "python",
   "name": "python3"
  },
  "language_info": {
   "codemirror_mode": {
    "name": "ipython",
    "version": 3
   },
   "file_extension": ".py",
   "mimetype": "text/x-python",
   "name": "python",
   "nbconvert_exporter": "python",
   "pygments_lexer": "ipython3",
   "version": "3.10.1"
  }
 },
 "nbformat": 4,
 "nbformat_minor": 5
}
