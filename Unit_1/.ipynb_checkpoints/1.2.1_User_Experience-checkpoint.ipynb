{
 "cells": [
  {
   "cell_type": "markdown",
   "id": "f3cb42bb-d05d-4ee9-abaa-e2f6dfcf11bc",
   "metadata": {},
   "source": [
    "# <font color=deepskyblue>Unit 1 Topic 2: User Experience and Interfaces</font>"
   ]
  },
  {
   "cell_type": "markdown",
   "id": "9b165505-edb0-4ac7-9161-b45db4c549bf",
   "metadata": {},
   "source": [
    "---\n",
    "## <font color=deepskyblue>1.2.1 User Experience</font>\n",
    "\n",
    "- <font color=orangered>*recognise and describe the meaning and importance of user experience*</font>\n",
    "\n",
    "<font color=green>*TLDR - User Experience (UX) is about creating meaningful and relevant experiences to users which includes, but is not limited to, the user interface (UI) and useability.*</font>\n",
    "\n",
    "User experience (UX) design is the process design teams use to create products that provide meaningful and relevant experiences to users. This involves the design of the entire process of acquiring and integrating the product, including aspects of branding, design, usability and function.\n",
    "\n",
    "“User Experience Design” is often used interchangeably with terms such as “User Interface Design” and “Usability”. However, while usability and user interface (UI) design are important aspects of UX design, they are subsets of it – UX design covers a vast array of other areas, too. \n",
    "A UX designer is concerned with the entire process of acquiring and integrating a product, including aspects of branding, design, usability and function. It is a story that begins before the device is even in the user's hands.\n",
    "\n",
    "UX designers don’t just focus on creating products that are usable; they concentrate on other aspects of the user experience, such as pleasure, efficiency and fun, too. Consequently, there is no single definition of a good user experience. Instead, a good user experience is one that meets a particular user’s needs in the specific context where he or she uses the product. (User Experience (UX) Design, 2020)"
   ]
  }
 ],
 "metadata": {
  "kernelspec": {
   "display_name": "Python 3 (ipykernel)",
   "language": "python",
   "name": "python3"
  },
  "language_info": {
   "codemirror_mode": {
    "name": "ipython",
    "version": 3
   },
   "file_extension": ".py",
   "mimetype": "text/x-python",
   "name": "python",
   "nbconvert_exporter": "python",
   "pygments_lexer": "ipython3",
   "version": "3.10.1"
  }
 },
 "nbformat": 4,
 "nbformat_minor": 5
}
