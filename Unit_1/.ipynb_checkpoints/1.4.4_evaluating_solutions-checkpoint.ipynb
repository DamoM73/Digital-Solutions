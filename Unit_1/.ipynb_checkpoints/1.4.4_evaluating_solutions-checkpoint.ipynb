{
 "cells": [
  {
   "cell_type": "markdown",
   "id": "2fe73de4-f3f8-44bb-a237-4f55f424a222",
   "metadata": {},
   "source": [
    "# <font color=darkorange>Topic 4: Programmed Solutions</font>"
   ]
  },
  {
   "cell_type": "markdown",
   "id": "1a96c518-cb98-4c5b-9e53-0638d582aed3",
   "metadata": {},
   "source": [
    "## <font color=deepskyblue>1.4.4 Evaluating Solution</font>\n",
    "\n",
    "- <font color=orangered>*evaluate and make recommendations about the solution and its components by testing to identify errors using computational thinking processes, e.g. debugging techniques*</font>\n",
    "- <font color=orangered>*evaluate and make recommendations about the personal, social and economic impacts of the solution*</font>\n",
    "- <font color=orangered>*evaluate and make recommendations about the implemented solution against prescribed criteria, maintainability and useability principles.*</font>\n",
    "\n",
    "<font color=green>*TLDR - *</font>"
   ]
  },
  {
   "cell_type": "markdown",
   "id": "f52ff994-db35-442d-af51-9abf41ab6a2e",
   "metadata": {},
   "source": [
    "---\n",
    "### <font color=deepskyblue>Solution</font>\n",
    "\n"
   ]
  },
  {
   "cell_type": "markdown",
   "id": "821e741e-b21a-4adf-a457-716568cdf1f8",
   "metadata": {},
   "source": [
    "---\n",
    "### <font color=deepskyblue>Impacts</font>\n"
   ]
  },
  {
   "cell_type": "markdown",
   "id": "b44dcb15-1cf0-4829-84b6-ffa0bc5d4995",
   "metadata": {},
   "source": [
    "---\n",
    "### <font color=deepskyblue>Criteria</font>\n",
    "\n"
   ]
  },
  {
   "cell_type": "markdown",
   "id": "bb6c6cc0-28b7-4eb2-8381-251343aa3afd",
   "metadata": {},
   "source": [
    "---\n",
    "### <font color=deepskyblue>Maintainability</font>\n",
    "\n"
   ]
  },
  {
   "cell_type": "markdown",
   "id": "b9f5bedc-107e-4c49-bc6c-6460a61fa1a2",
   "metadata": {},
   "source": [
    "---\n",
    "### <font color=deepskyblue>Useability Principles</font>"
   ]
  }
 ],
 "metadata": {
  "kernelspec": {
   "display_name": "Python 3 (ipykernel)",
   "language": "python",
   "name": "python3"
  },
  "language_info": {
   "codemirror_mode": {
    "name": "ipython",
    "version": 3
   },
   "file_extension": ".py",
   "mimetype": "text/x-python",
   "name": "python",
   "nbconvert_exporter": "python",
   "pygments_lexer": "ipython3",
   "version": "3.10.1"
  }
 },
 "nbformat": 4,
 "nbformat_minor": 5
}
