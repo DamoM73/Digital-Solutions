{
 "cells": [
  {
   "cell_type": "markdown",
   "id": "2fe73de4-f3f8-44bb-a237-4f55f424a222",
   "metadata": {},
   "source": [
    "# <font color=darkorange>Topic 4: Programmed Solutions</font>"
   ]
  },
  {
   "cell_type": "markdown",
   "id": "1a96c518-cb98-4c5b-9e53-0638d582aed3",
   "metadata": {},
   "source": [
    "## <font color=deepskyblue>1.4.4 Evaluating Solution</font>\n",
    "\n",
    "- <font color=orangered>*evaluate and make recommendations about the solution and its components by testing to identify errors using computational thinking processes, e.g. debugging techniques*</font>\n",
    "- <font color=orangered>*evaluate and make recommendations about the personal, social and economic impacts of the solution*</font>\n",
    "- <font color=orangered>*evaluate and make recommendations about the implemented solution against prescribed criteria, maintainability and useability principles.*</font>\n",
    "\n",
    "<font color=green>*TLDR - *</font>"
   ]
  },
  {
   "cell_type": "markdown",
   "id": "f52ff994-db35-442d-af51-9abf41ab6a2e",
   "metadata": {},
   "source": [
    "---\n",
    "### <font color=deepskyblue>Solution</font>\n",
    "\n",
    "In evaluating the solution you need to summaries the evaluations of the components. Using their assessment in a final judgment on the overall solution."
   ]
  },
  {
   "cell_type": "markdown",
   "id": "821e741e-b21a-4adf-a457-716568cdf1f8",
   "metadata": {},
   "source": [
    "---\n",
    "### <font color=deepskyblue>Impacts</font>\n",
    "\n",
    "In the Exploration phase of the EDGE process, you would have identified desired personal, social, economic and environmental impacts from the possible impacts outline in [section 1.1.4](1.1.4_Impacts.ipynb). You now need to consider how successful the project has been in achieving these. \n",
    "\n",
    "There are two ways that these impacts can be assessed:\n",
    "- **feedback** \n",
    "    - some impacts are immediate and you can ask users if they experienced the impact\n",
    "    - for example - do you feel the application improved your health and well-being?\n",
    "    - you will justify this type of assessment, with evidence of user feedback (summary etc)\n",
    "- **reasoned speculation**\n",
    "    - some impact are beyond you capacity to assess (eg. reduction in the impacts of climate change)\n",
    "    - for these types of impacts, you will need to express a **justified** opinion on its impact\n",
    "    - the justification should show the mechanism of its impact, or an example of a similar process\\\n",
    "    \n",
    "Irrespective of the type of assessment, you will need to rate the success of the application achieving each impact. This is normally done best in a table."
   ]
  },
  {
   "cell_type": "markdown",
   "id": "b44dcb15-1cf0-4829-84b6-ffa0bc5d4995",
   "metadata": {},
   "source": [
    "---\n",
    "### <font color=deepskyblue>Criteria</font>\n",
    "\n",
    "In the exploration phase of the EDGE process you would have established the project's [prescribed and self-determined criteria](1.1.6_Criteria.ipynb). \n",
    "\n",
    "To evaluate these you will need to:\n",
    "- address each criteria\n",
    "- assess the success of achieving the criteria\n",
    "- list possible changes\n",
    "- provide a justified recommendation\n",
    "\n",
    "This is best done in a table."
   ]
  },
  {
   "cell_type": "markdown",
   "id": "b9f5bedc-107e-4c49-bc6c-6460a61fa1a2",
   "metadata": {},
   "source": [
    "---\n",
    "### <font color=deepskyblue>Useability Principles</font>\n",
    "\n"
   ]
  }
 ],
 "metadata": {
  "kernelspec": {
   "display_name": "Python 3 (ipykernel)",
   "language": "python",
   "name": "python3"
  },
  "language_info": {
   "codemirror_mode": {
    "name": "ipython",
    "version": 3
   },
   "file_extension": ".py",
   "mimetype": "text/x-python",
   "name": "python",
   "nbconvert_exporter": "python",
   "pygments_lexer": "ipython3",
   "version": "3.10.1"
  }
 },
 "nbformat": 4,
 "nbformat_minor": 5
}
