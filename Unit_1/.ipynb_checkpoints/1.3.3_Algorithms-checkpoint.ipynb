{
 "cells": [
  {
   "cell_type": "markdown",
   "id": "4b60bee2-a40b-43df-95e8-2eaad124455b",
   "metadata": {},
   "source": [
    "# <font color=darkorange>Topic 3: Algorithms and Programming Techniques</font>"
   ]
  },
  {
   "cell_type": "markdown",
   "id": "25ae23d3-1ac9-4f4a-a2e8-99300c19c4ae",
   "metadata": {},
   "source": [
    "---\n",
    "## <font color=deepskyblue>1.3.3 Algorithms</font>\n",
    "\n",
    "- <font color=orangered>*understand and use the basic algorithm constructs - assignment, sequence, selection, condition, iteration, and modularisation*</font>\n",
    "- <font color=orangered>*explore functions and procedures with efficient and maintainable code that includes reuseable coded components*</font>\n",
    "- <font color=orangered>*explore functions and procedures with efficient and maintainable code that responds to keyboard and mouse events*</font>\n",
    "- <font color=orangered>*explore functions and procedures with efficient and maintainable code that uses variables, selection structures, counted loops, while loops and single, multi-branch and nested conditional logic/statements*</font>\n",
    "- <font color=orangered>*explore functions and procedures with efficient and maintainable code that uses operators, including arithmetic (+, –, \\*, /, integer, modulus, exponent), comparison (\\<, \\>, \\<=, \\>=, equal, not equal) and logical (AND, OR, NOT)*</font>\n",
    "- <font color=orangered>*explore the purpose of code statements by writing code and using existing code blocks or statements*</font>\n",
    "- <font color=orangered>*explore object/event triggers and develop explanations about their effect/s on user interfaces*</font>\n",
    "\n",
    "<font color=green>*TLDR - All algorithms are made up of assignment, sequence, selection, condition, iteration, and modularisation*</font>\n",
    "\n",
    "There are 6 basic building blocks that an algorithm consists of. Each of them serve a particular purpose. "
   ]
  },
  {
   "cell_type": "markdown",
   "id": "0b5ddfa3-37e5-4b16-9e8a-ff7b9e35c901",
   "metadata": {},
   "source": [
    "---\n",
    "### <font color=deepskyblue>Sequence</font>\n",
    "\n",
    "A sequence is a number of instructions that are processed one after the other. For example, a very simple algorithm for brushing teeth might consist of these steps:\n",
    "1. put toothpaste on toothbrush\n",
    "2. use toothbrush to clean teeth\n",
    "3. rinse toothbrush\n",
    "\n",
    "Each step is an instruction to be performed. Sequencing is the order in which the steps are carried out.\n",
    "\n",
    "#### <font color=deepskyblue>Why is sequencing important?</font>\n",
    "\n",
    "It is crucial that the steps in an algorithm are performed in the right order - otherwise the algorithm will not work correctly. Suppose the steps for the teeth-cleaning algorithm were in this sequence:\n",
    "1. use toothbrush to clean teeth\n",
    "2. put toothpaste on toothbrush\n",
    "3. rinse toothbrush\n",
    "\n",
    "A toothbrush would still be used to clean the teeth and toothpaste would still be put on the brush. But because steps 1 and 2 are in the wrong sequence the teeth wouldn't get cleaned with the toothpaste, and the toothpaste would be wasted. A human would realise they had forgotten to add toothpaste at the start of the process, but a computer would not know that anything was wrong. A computer can only do what it is programmed to do. If the steps are programmed in the wrong sequence, the computer will perform the tasks in this sequence – even if this is incorrect.\n",
    "\n",
    "In Python sequences occur within the same block of code. Put another way, sequences are the default and will occur unless an indent is present. Read the comments in the code below to identify the sequences."
   ]
  },
  {
   "cell_type": "code",
   "execution_count": null,
   "id": "48024245-a6fa-49aa-af7d-13e8d0cd61d1",
   "metadata": {},
   "outputs": [],
   "source": [
    "# the code below is a sequence\n",
    "user_num = int(input(\"Enter a number> \"))\n",
    "new_num = user_num ** 2\n",
    "if new_num > 100:\n",
    "    # this indent indicates a new block. Within the block the code runs in sequence\n",
    "    print(f\"The original number was {user_num}\")\n",
    "    print(f\"The square of {user_num} is more than 100\")\n",
    "else:\n",
    "    # this indent indicates a new block. Within the block the code runs in sequence\n",
    "    print(f\"The original number was {user_num}\")\n",
    "    print(f\"The square of {user_num} is not more than 100\")"
   ]
  },
  {
   "cell_type": "markdown",
   "id": "19298bbc-917c-48cb-bb9a-20dd3a844561",
   "metadata": {},
   "source": [
    "---\n",
    "### <font color=deepskyblue>Assignment</font>\n",
    "Assignment is used to store the value of an expression into a variable. \n",
    "\n",
    "A variable is a label that a computer uses to remember certain values or pieces of information. They are similiar to the variables that you would have seen in maths e.g. x=5. In programming, this is exactly the same idea, except computers can remember anything not just numbers, and additionally, the variables are generally given more meaningful names that relate to the data they contain e.g. \n",
    "\n",
    "`student_name = \"Tom\"`\n",
    "\n",
    "Assignment is the way that a variable is told to remember a certain value. \n",
    "\n",
    "In Python assignment is done with `=` symbol. Unlike other languages, Python declares a variable when you assign it, so you only need one statement."
   ]
  },
  {
   "cell_type": "code",
   "execution_count": null,
   "id": "df9136e2-89e8-4216-b8a4-115cfa8fada5",
   "metadata": {},
   "outputs": [],
   "source": [
    "student_name = \"Tom\"    # assigning a string\n",
    "age = 14                # assigning an integer\n",
    "gpa = 4.5               # assigning a float\n",
    "present = True          # assigning a boolean"
   ]
  },
  {
   "cell_type": "markdown",
   "id": "d4b75cef-519d-4e3c-95be-fec41a70801b",
   "metadata": {
    "tags": []
   },
   "source": [
    "### <font color=deepskyblue>Condition</font>\n",
    "\n",
    "A condition is the way that a computer asks a question. Computers can only generate two possible  responses to questions. Yes and No, or more precisely, True and False. A more formal definition is that a condition is a logical expression that evaluates to true or false. \n",
    "\n",
    "In Python, conditions are part of `if` and `while` statements. They have the syntax of `value` `operator` `value` with six possible operators:\n",
    "\n",
    "- Equals: a == b\n",
    "- Not Equals: a != b\n",
    "- Less than: a < b\n",
    "- Less than or equal to: a <= b\n",
    "- Greater than: a > b\n",
    "- Greater than or equal to: a >= b"
   ]
  },
  {
   "cell_type": "code",
   "execution_count": null,
   "id": "c3252a75-9256-46f4-9667-4c9b9b00494f",
   "metadata": {},
   "outputs": [],
   "source": [
    "# a condition make a test and returns a True or False run this code to see the results of a condition\n",
    "\n",
    "5 > 6"
   ]
  },
  {
   "cell_type": "markdown",
   "id": "38389d0b-3a82-46d4-937c-1541b523c519",
   "metadata": {},
   "source": [
    "### <font color=deepskyblue>Selection</font>\n",
    "\n",
    "A selection statement uses a condition to select, or determine, the next line of the program that is to be executed. These statements help to make decisions and change the flow of a program. In Python, there are four types of selection statements:\n",
    "\n",
    "```\n",
    "if\n",
    "\n",
    "if...else\n",
    "\n",
    "if...elif...else\n",
    "\n",
    "match\n",
    "```\n",
    "\n",
    "#### <font color=deepskyblue>If Statements</font>\n",
    "`if` `if...else` and `if...elif...else` are all considered if statements. It is important to note an if statement:\n",
    "- has to have one, and only one `if`\n",
    "- can have an unlimited number of `elif` (including none)\n",
    "- can have no, or one `else`\n",
    "- each `if` `if...else` and `if...elif...else` line terminates with a `:`\n",
    "\n",
    "---\n",
    "The syntax of an `if` statement:\n",
    "\n",
    "```\n",
    "if condition:\n",
    "    block of code that runs \n",
    "    when the condition is true\n",
    "```"
   ]
  },
  {
   "cell_type": "code",
   "execution_count": null,
   "id": "bc7ab668-c089-45c6-a9d8-5a6f36506447",
   "metadata": {},
   "outputs": [],
   "source": [
    "a = 1\n",
    "b = 10\n",
    "\n",
    "if a < b:\n",
    "    print(\"a is less than b\")"
   ]
  },
  {
   "cell_type": "markdown",
   "id": "35c1105e-cdc0-4db0-8099-9fb5f6ffa8d4",
   "metadata": {},
   "source": [
    "---\n",
    "The syntax of an `if...else` statement:\n",
    "\n",
    "```\n",
    "if condition:\n",
    "    block of code that runs \n",
    "    when the condition is True\n",
    "else:\n",
    "    block of code that runs\n",
    "    when the condition is not True\n",
    "```"
   ]
  },
  {
   "cell_type": "code",
   "execution_count": null,
   "id": "3077ddf6-326c-44c3-bcce-ea2508f7f147",
   "metadata": {},
   "outputs": [],
   "source": [
    "a = 1\n",
    "b = 10\n",
    "\n",
    "if a > b:\n",
    "    print(\"a is greater than b\")\n",
    "else:\n",
    "    print(\"a is not greater than b\")"
   ]
  },
  {
   "cell_type": "markdown",
   "id": "6b1e7121-56be-46ca-87a2-5da069efc2a8",
   "metadata": {},
   "source": [
    "---\n",
    "The syntax of an `if...elif...else` statement:\n",
    "```\n",
    "if condition_a:\n",
    "    block of code that runs \n",
    "    when the condition_a is true\n",
    "elif condition_b:\n",
    "    block of code that runs \n",
    "    when the condition_b is true\n",
    "else:\n",
    "    block of code that runs\n",
    "    when neither condition_a nor \n",
    "    condition_b are not True\n",
    "```"
   ]
  },
  {
   "cell_type": "code",
   "execution_count": null,
   "id": "0e9edd71-905c-4ca7-bb6c-51d0212ece0b",
   "metadata": {},
   "outputs": [],
   "source": [
    "a = 6\n",
    "b = 7\n",
    "c = 11\n",
    "\n",
    "if a > b:\n",
    "    print(\"a is greater than b\")\n",
    "elif b > c:\n",
    "    print(\"b is greater than c\")\n",
    "elif a + b > c:\n",
    "    print(\"a plus b is greater than c\")\n",
    "else:\n",
    "    print(\"c rules them all\")    "
   ]
  },
  {
   "cell_type": "markdown",
   "id": "d10fabc1-99f8-4cfe-b35e-999f50eb9824",
   "metadata": {},
   "source": [
    "#### <font color=deepskyblue>Structural Pattern Matching</font>\n",
    "\n",
    "Python's structural pattern matching (`match` statement) is new in Python 3.10. At the simplest level it is a switch statement which can take the place of a `if...elif...else` statement.\n",
    "\n",
    "The syntax of a `match` statement is:\n",
    "\n",
    "```\n",
    "match <variable>:\n",
    "    case <value_1>:\n",
    "        block that will run if variable == value_1\n",
    "    case <value_2>:\n",
    "        block that will run if variable == value_2\n",
    "    case <value_3>:\n",
    "        block that will run if variable == value_3\n",
    "    case <value_4>:\n",
    "        block that will run if variable == value_4\n",
    "    case _:\n",
    "        block that will run if variable doesn't match any of the values.\n",
    "```"
   ]
  },
  {
   "cell_type": "code",
   "execution_count": null,
   "id": "75470bae-a7b9-4511-810e-ce5451f6eb31",
   "metadata": {},
   "outputs": [],
   "source": [
    "weekday_num = int(input(\"Enter the weekday number (1-7)> \"))\n",
    "\n",
    "match weekday_num:\n",
    "    case 1:\n",
    "        print(\"Monday\")\n",
    "    case 2:\n",
    "        print(\"Tuesday\")\n",
    "    case 3:\n",
    "        print(\"Wednesday\")\n",
    "    case 4:\n",
    "        print(\"Thursday\")\n",
    "    case 5:\n",
    "        print(\"Friday\")\n",
    "    case 6:\n",
    "        print(\"Saturday\")\n",
    "    case 7:\n",
    "        print(\"Saturday\")\n",
    "    case _:\n",
    "        print(\"Invalid. weekday_num should be an integer between 1 and 7\")"
   ]
  },
  {
   "cell_type": "markdown",
   "id": "02f3dc6b-b02c-4522-b1f7-84567ba46e5c",
   "metadata": {},
   "source": [
    "### <font color=deepskyblue>Iteration</font>\n",
    "\n",
    "Iteration refers to the repetition of a number of instructions. These are generally referred to as loops. Loops are a section of code that is repeated. \n",
    "\n",
    "There are two different types of loops:\n",
    "- definite loops\n",
    "- indefinite loops\n",
    "\n",
    "#### <font color=deepskyblue>Definite Loops</font>\n",
    "\n",
    "Definite loops are loops where, before entering the loop, you know how many times the loops needs to repeat. Think of walking up stairs. At the bottom of a set of stairs you know how many steps you need to take to get to the top. This number will depend on the specific set of stairs, but you will know how many steps before you start. \n",
    "\n",
    "Definite loops are also called count-control loops as they have a variable which keeps count of the number of time the loop is repeated. The code in the loop will be repeated until the count reaches the target. In most programming language this is called a `for` loop. A general for loop syntax would be:\n",
    "\n",
    "```\n",
    "for count = 1 to 10\n",
    "    the code that needs to be repeated\n",
    "next count\n",
    "```\n",
    "\n",
    "The value of `count` starts at 1 and increases each time the loop repeats. When `count` reaches 10, the loop exits (stops repeating) and the program continues on.\n",
    "\n",
    "---\n",
    "In Python, `for` loops work slightly differently. Rather than the `count` variable increasing at each repetition, it moves along a list of values until it gets to the end. run the code below to see an example of how for loops work in Python:"
   ]
  },
  {
   "cell_type": "code",
   "execution_count": null,
   "id": "2393d4de-9a64-4268-9e6d-a2aa22149a77",
   "metadata": {},
   "outputs": [],
   "source": [
    "for count in [1,2,3,4,5,6,7,8,9,10]:\n",
    "    print(count)"
   ]
  },
  {
   "cell_type": "markdown",
   "id": "1c77fd7d-e975-4abe-8acf-14f7d8d36d59",
   "metadata": {},
   "source": [
    "The values between `[` and `]` are called a list. We'll learn more about them later.\n",
    "\n",
    "`count` started at `1` and then moved to the next value `2` then `3` and so on until it reached the last number `10`. Then it exited the loop. It's important to note that count wasn't counting up, but rather it was just moving to the next value. To show this, run the code below:"
   ]
  },
  {
   "cell_type": "code",
   "execution_count": null,
   "id": "deaa0654-debd-481f-bf3d-1a70a3154a88",
   "metadata": {},
   "outputs": [],
   "source": [
    "for count in [2,10,1,7,3,5,9,8,6,4]:\n",
    "    print(count)"
   ]
  },
  {
   "cell_type": "markdown",
   "id": "c8992792-2fb2-44d8-ab3c-9ed960f53217",
   "metadata": {},
   "source": [
    "This makes Python `for` loops quite flexible, since lists can contain more than just numbers. Try the code below:"
   ]
  },
  {
   "cell_type": "code",
   "execution_count": null,
   "id": "a63c423b-8b9a-4be0-8685-05fa55e2d925",
   "metadata": {},
   "outputs": [],
   "source": [
    "for day in [\"Monday\", \"Tuesday\", \"Wednesday\", \"Thursday\", \"Friday\", \"Saturday\", \"Sunday\"]:\n",
    "    print(day)"
   ]
  },
  {
   "cell_type": "markdown",
   "id": "8b425b02-7326-459d-884c-3a211a072861",
   "metadata": {},
   "source": [
    "Notice that the variable, formerly `count`, is called `day`. The variable can be named anything, so it is best to give it a name that makes sense. Also notice that the `for` statement ends with a `:`.\n",
    "\n",
    "\n",
    "#### <font color=deepskyblue>Indefinite Loops</font>\n",
    "\n",
    "Indefinite loops are loops where you don't know how many times they will be repeated. Think of eating dinner. Before eating dinner you have no idea how many mouthful you are going to eat. Instead you eat until the food is finished.\n",
    "\n",
    "Indefinite loops are also called condition-controlled loops. This means that they loop as long as a condition is `True`. In our eating diner example, the condition is whether there is food. If there is food, you will continue to eat. There are two types of indefinite loops:\n",
    "- `while` loops\n",
    "- `repeat` loops\n",
    "\n",
    "`while` loops test the condition before executing the looped code, then check the condition again. If the condition is still `True` then it will run the loop code again. It will keep doing this until the condition is `False` then it will exit the loop. The general syntax for a `while` loop is:\n",
    "\n",
    "```\n",
    "while condition\n",
    "    the code that will be repeated\n",
    "end while\n",
    "```\n",
    "\n",
    "`repeat` loops execute the looped code once, then tests the condition. If the condition is `True` it will run the loop code again, followed by another condition test. This also continues until the condition is `False`. The genreal syntax for a `repeat` loop is:\n",
    "\n",
    "```\n",
    "repeat\n",
    "    the code that will be repeated\n",
    "until condition\n",
    "```\n",
    "\n",
    "The main difference between a `while` loop and a `repeat` loop is that a `repeat` loop always runs the looped code once, whilst a `while` loop can skip the looped code complete if the condition is `False`.\n",
    "\n",
    "Note: since it is possible for the condition to always be `True`, indefinite loops can actually be infinite, that is, run forever. This can be useful for some programming purposes, but can also cause your program to lockup if not intended.\n",
    "\n",
    "---\n",
    "For indefinite loops, Python only has `while` loops. The code below is an example of a `while` loop in Python."
   ]
  },
  {
   "cell_type": "code",
   "execution_count": null,
   "id": "eb0b7972-77ad-45d0-ba95-a361edf1c1a5",
   "metadata": {},
   "outputs": [],
   "source": [
    "response = 0\n",
    "while response <= 10:\n",
    "    response = int(input(\"Enter a nubmer greater than 10> \"))\n",
    "    print(\"No silly, GREATER than 10\")"
   ]
  },
  {
   "cell_type": "markdown",
   "id": "ebe3fce7-832a-4767-b6c7-c861a325ff0f",
   "metadata": {},
   "source": [
    "### <font color=deepskyblue>Modularisation</font>\n",
    "\n",
    "Modular programming refers to the process of breaking a large, unwieldy programming task into separate, smaller, more manageable subtasks or modules. Individual modules can then be cobbled together like building blocks to create a larger application.\n",
    "\n",
    "There are several advantages to modularizing code in a large application:\n",
    "- **Simplicity** - Rather than focusing on the entire problem at hand, a module typically focuses on one relatively small portion of the problem. If you're working on a single module, you'll have a smaller problem domain to wrap your head around. This makes development easier and less error-prone.\n",
    "- **Maintainability** - Modules are typically designed so that they enforce logical boundaries between different problem domains. If modules are written in a way that minimizes interdependency, there is decreased likelihood that modifications to a single module will have an impact on other parts of the program. (You may even be able to make changes to a module without having any knowledge of the application outside that module.) This makes it more viable for a team of many programmers to work collaboratively on a large application.\n",
    "- **Reusability** - Functionality defined in a single module can be easily reused (through an appropriately defined interface) by other parts of the application. This eliminates the need to duplicate code.\n",
    "- **Scoping** - Modules typically define a separate namespace, which helps avoid collisions between identifiers in different areas of a program. (One of the tenets in the Zen of Python is Namespaces are one honking great idea—let’s do more of those!)\n",
    "\n",
    "Functions, modules and packages are all constructs in Python that promote code modularization.\n",
    "\n",
    "#### <font color=deepskyblue>Functions</font>\n",
    "\n",
    "\n",
    "Functions are normally 'defined' with a name, and are 'called' from the main program. The code in the function will only run when it is called. When functions are called that can have values 'passed' to them from the main program (called arguments), and they can also return values back tot he main program. The general syntax for a function is:\n",
    "\n",
    "```\n",
    "funct function_name(values_passed)\n",
    "    code that is run when the function is called\n",
    "    return value_returned_to_program\n",
    "    \n",
    "# main program\n",
    "value_returned = function_name(values_to_pass)\n",
    "```\n",
    "---\n",
    "In Python functions are created using the keyword `def`. Below is an example of a function definition and call in Python. Note that the `def` statement needs to have `(` and `)` even if it doesn't have arguments, and it finishes with `:`."
   ]
  },
  {
   "cell_type": "code",
   "execution_count": null,
   "id": "ae9a5a79-20fd-441f-a8f9-2c01c8fad39e",
   "metadata": {},
   "outputs": [],
   "source": [
    "def sum_values(val_a, val_b):\n",
    "    total = val_a + val_b\n",
    "    return total\n",
    "\n",
    "# main program\n",
    "sum_val = sum_values(10,5)\n",
    "print(sum_val)"
   ]
  },
  {
   "cell_type": "markdown",
   "id": "f3864301-260c-47f1-8c69-3e9e4736450c",
   "metadata": {},
   "source": [
    "In Python it is possible to have four different types of functions:\n",
    "- A function that accepts arguments and returns values\n",
    "- A function that accepts arguments but doesn't return any values\n",
    "- A function that doesn't accepts arguments and returns values\n",
    "- A function that doesn't accepts arguments nor return any values\n",
    "\n",
    "#### <font color=deepskyblue>Modules</font>\n",
    "\n",
    "In Python, modules are created by writing code in a separate file. To access the code from that file you use the `import` keyword. You would have used this in your previous programming.\n",
    "\n",
    "#### <font color=deepskyblue>Packages</font>\n",
    "\n",
    "Packages allow for a hierarchical structuring of the module namespace using dot notation. In the same way that modules help avoid collisions between global variable names, packages help avoid collisions between module names.\n",
    "\n",
    "The Python code below all three of these concept together, by importing the `randint` function from the modules in the `random` package."
   ]
  },
  {
   "cell_type": "code",
   "execution_count": null,
   "id": "365df88b-b046-4cdd-9faf-3ed76e9f0548",
   "metadata": {},
   "outputs": [],
   "source": [
    "import random\n",
    "\n",
    "print(random.randint(1,10))"
   ]
  }
 ],
 "metadata": {
  "kernelspec": {
   "display_name": "Python 3 (ipykernel)",
   "language": "python",
   "name": "python3"
  },
  "language_info": {
   "codemirror_mode": {
    "name": "ipython",
    "version": 3
   },
   "file_extension": ".py",
   "mimetype": "text/x-python",
   "name": "python",
   "nbconvert_exporter": "python",
   "pygments_lexer": "ipython3",
   "version": "3.10.1"
  }
 },
 "nbformat": 4,
 "nbformat_minor": 5
}
