{
 "cells": [
  {
   "cell_type": "markdown",
   "id": "bf5cd6b7-e2f4-413a-a3a8-feb4a86189ac",
   "metadata": {},
   "source": [
    "# <font color=darkorange>Unit 1 Topic 1: Understanding Digital Problems</font>"
   ]
  },
  {
   "cell_type": "markdown",
   "id": "699d6b23-1c26-413a-bd00-7dd1ac66bd0f",
   "metadata": {
    "tags": []
   },
   "source": [
    "## <font color=deepskyblue>1.1.1 Digital Problems</font>\n",
    "\n",
    "- <font color=orangered>*understand the constituents of a digital problem*</font>\n",
    "- <font color=orangered>*analyse problems to identify essential elements, components and features of problems in Digital Solutions*</font>\n",
    "\n",
    "<font color=green>*TLDR - Digital problems are solvable using digital systems which consist of inputs, processes and outputs*</font>\n",
    "\n",
    "Problem solving in technology-rich environments involves using digital technology, communication tools and networks to acquire and evaluate information, communicate with others and perform practical tasks. It requires the ability to solve problems for personal, social and economic purposes through the setting of appropriate goals and plans and by the accessing and making use of information through computers and computer networks. (Program for the International Assessment of Adult Competancies (PIAAC), 2020)\n",
    "\n",
    "Digital problems are therefore those problems that are solvable using information and communication technologies. These digital solutions can use a wide variety of developed and developing contexts such as web applications, mobile applications, interactive media and intelligent systems. (QCAA, 2017)\n",
    "\n",
    "What distinguishes a digital problem is that the solution consists of digital hardware and software working together to form a digital system.\n",
    "\n",
    "![IPO](assets/IPO.png)\n",
    "\n",
    "In a digital system:\n",
    "- data goes in (input)\n",
    "- data is manipulated (process)\n",
    "- dats is sent out (output)"
   ]
  }
 ],
 "metadata": {
  "kernelspec": {
   "display_name": "Python 3 (ipykernel)",
   "language": "python",
   "name": "python3"
  },
  "language_info": {
   "codemirror_mode": {
    "name": "ipython",
    "version": 3
   },
   "file_extension": ".py",
   "mimetype": "text/x-python",
   "name": "python",
   "nbconvert_exporter": "python",
   "pygments_lexer": "ipython3",
   "version": "3.10.1"
  }
 },
 "nbformat": 4,
 "nbformat_minor": 5
}
