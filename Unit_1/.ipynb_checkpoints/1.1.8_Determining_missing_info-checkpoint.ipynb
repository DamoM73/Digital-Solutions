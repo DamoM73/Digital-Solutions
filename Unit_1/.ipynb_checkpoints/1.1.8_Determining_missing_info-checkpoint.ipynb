{
 "cells": [
  {
   "cell_type": "markdown",
   "id": "bf5cd6b7-e2f4-413a-a3a8-feb4a86189ac",
   "metadata": {},
   "source": [
    "# <font color=darkorange>Unit 1 Topic 1: Understanding Digital Problems</font>"
   ]
  },
  {
   "cell_type": "markdown",
   "id": "948d59f9-c859-4637-9dcf-d18b8b72501d",
   "metadata": {},
   "source": [
    "## <font color=deepskyblue>1.1.8 Determining missing, required or unnecessary facts and information</font>\n",
    "\n",
    "- <font color=orangered>analyse a given problem to identify missing, required or unnecessary facts or information</font>\n",
    "\n",
    "<font color=green>*TLDR - Through the development of the solution you may identify missing information*</font>\n",
    "\n",
    "Expressing facts and information in different formats can help you identify if there is missing information, what is actually required and what can be considered unnecessary.\n",
    "\n",
    "The mere act of drawing paper prototypes to communicate requirements can reveal requirements that have not been explicitly stated. Prototyping can reveal the need to include requirements you may have missed while writing textual requirements. The trick is to combine different specification models that tell different stories. For example, studying use cases can reveal missing stakeholders or system functionality while studying data flow diagrams (studied later in this course) can provide information on missing sources of data as well as processes/requirements you may not have thought of while documenting user requirements in a textual form. Always check for elements \n",
    "mentioned in one model but not in another.\n",
    "\n",
    "Additionally, look at similar systems in use, that is, already existing solutions. You can draw a minimum set of requirements from existing systems, and then add in the peculiar requirements of your stakeholders. This can provide a “minimum set” of requirements.\n",
    "\n",
    "**Scenarios** can also help you uncover missing requirements. Think of how a user would interact with a system under different circumstances. Have you missed any requirement that might prevent the user from completing each scenario? Walking through each process from the beginning to the end can also help to identify the minimum requirements necessary for the user to complete each process.\n",
    "\n",
    "**Structured Walkthrough** Reviewing requirements with stakeholders can help to identify missing requirements. When stakeholders are invited to discuss a list of requirements or prototypes, they tend to propose new/additional requirements. Take advantage of such discussions to check for completeness. Including the technical team from the onset can also shed light on critical non-functional \n",
    "requirements that are unlikely to have explicitly requested for.\n",
    "\n",
    "**Search for omission indicators** These are words in your requirement documents that indicate something might be missing. For example words like: ‘tbd’ (to be determined), ‘etc’, ‘and so on’, ‘not limited to’ and ‘as a minimum’ indicate that there’s still some information your document has not covered. The challenge often lies in finding a balance between too much and too little information.\n",
    "\n",
    "**Clarify your assumptions and risks** Have you clarified your assumptions and stated any associated requirements where necessary? Have you identified the risks to the system and developed measures of mitigating them? These measures are potential candidates for developing critical requirements that need to be included to ensure delivery of the right solution."
   ]
  }
 ],
 "metadata": {
  "kernelspec": {
   "display_name": "Python 3 (ipykernel)",
   "language": "python",
   "name": "python3"
  },
  "language_info": {
   "codemirror_mode": {
    "name": "ipython",
    "version": 3
   },
   "file_extension": ".py",
   "mimetype": "text/x-python",
   "name": "python",
   "nbconvert_exporter": "python",
   "pygments_lexer": "ipython3",
   "version": "3.10.1"
  }
 },
 "nbformat": 4,
 "nbformat_minor": 5
}
