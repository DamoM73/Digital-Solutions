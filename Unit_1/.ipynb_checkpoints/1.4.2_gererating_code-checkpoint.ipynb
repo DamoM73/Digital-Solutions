{
 "cells": [
  {
   "cell_type": "markdown",
   "id": "2fe73de4-f3f8-44bb-a237-4f55f424a222",
   "metadata": {},
   "source": [
    "# <font color=darkorange>Topic 4: Programmed Solutions</font>"
   ]
  },
  {
   "cell_type": "markdown",
   "id": "7a3b7c04-8e5b-4b9b-9bdc-26780f3fb27b",
   "metadata": {},
   "source": [
    "## <font color=deepskyblue>1.4.2 Generating Code</font>\n",
    "\n",
    "- <font color=orangered>*output information to the screen in text-based or visual formats*</font>\n",
    "- <font color=orangered>*generate components of a solution by using existing code or writing new code statements*</font>\n",
    "- <font color=orangered>*generate modified code in response to new or existing information*</font>\n",
    "- <font color=orangered>*generate functions/procedures with efficient and maintainable code that includes reuseable code blocks or statements and responses to keyboard and mouse events*</font>\n",
    "- <font color=orangered>*generate selection structures, counted loops, while loops, and single, multi-branch and nested conditional logic statements*</font>\n",
    "- <font color=orangered>*generate local and global variables*</font>\n",
    "- <font color=orangered>*generate a prototype digital solution in response to a problem*</font>\n",
    "- <font color=orangered>*test inputs, outputs and processes*</font>\n",
    "\n",
    "<font color=green>*TLDR - *</font>"
   ]
  },
  {
   "cell_type": "markdown",
   "id": "6749c2b4-2f71-4991-a09d-895a25ecb20f",
   "metadata": {},
   "source": [
    "---\n",
    "### <font color=deepskyblue>Importing Libraries</font>\n"
   ]
  },
  {
   "cell_type": "markdown",
   "id": "a0073fe2-f5b7-4e07-9a94-c0f590472ef5",
   "metadata": {},
   "source": [
    "---\n",
    "### <font color=deepskyblue>Model View Controller</font>\n",
    "\n"
   ]
  },
  {
   "cell_type": "markdown",
   "id": "3261de3c-c48c-4651-9a09-4eacf5b9aa5f",
   "metadata": {},
   "source": [
    "---\n",
    "### <font color=deepskyblue>Testing</font>"
   ]
  }
 ],
 "metadata": {
  "kernelspec": {
   "display_name": "Python 3 (ipykernel)",
   "language": "python",
   "name": "python3"
  },
  "language_info": {
   "codemirror_mode": {
    "name": "ipython",
    "version": 3
   },
   "file_extension": ".py",
   "mimetype": "text/x-python",
   "name": "python",
   "nbconvert_exporter": "python",
   "pygments_lexer": "ipython3",
   "version": "3.10.1"
  }
 },
 "nbformat": 4,
 "nbformat_minor": 5
}
