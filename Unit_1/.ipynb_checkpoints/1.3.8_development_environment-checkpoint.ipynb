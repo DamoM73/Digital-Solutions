{
 "cells": [
  {
   "cell_type": "markdown",
   "id": "4b60bee2-a40b-43df-95e8-2eaad124455b",
   "metadata": {},
   "source": [
    "# <font color=deepskyblue>Topic 3: Algorithms and Programming Techniques</font>"
   ]
  },
  {
   "cell_type": "markdown",
   "id": "80a65c27-770e-4914-9d0e-8c5bcde37e4d",
   "metadata": {},
   "source": [
    "---\n",
    "## <font color=deepskyblue>1.3.8 Development Environment</font>\n",
    "\n",
    "- <font color=orangered>*explore programming development tools to understand how to use them effectively*</font>\n",
    "- <font color=orangered>*explore the use of a procedural text-based language for writing and modifying code and using existing code blocks or statements*</font>\n",
    "\n",
    "<font color=green>*TLDR - *</font>"
   ]
  },
  {
   "cell_type": "markdown",
   "id": "6615d4ef-4847-4c0e-b69d-30a4ca616e5c",
   "metadata": {},
   "source": [
    "---\n",
    "### <font color=deepskyblue>Programming Language</font>\n",
    "\n",
    "We will be using Python as our programming language for this course. Specifically we will be using Python 3.10.\n",
    "\n",
    "To install Python go to the [downloads section of the Python website](https://www.python.org/downloads/) and choose the installer for your OS.\n",
    "\n",
    "<font color=red>**Really important for Windows users (hence the red):** You need to make sure that you check the box beside **Add Python 3.10 to PATH**. Failure to do this will hamper the use of Python on Windows, and when you have a problem, I will just tell you to reinstall it using the instruction that you should have used the first time.</font?\n",
    "\n",
    "<font color=red>Follow the steps below:</font>\n",
    "\n",
    "![python installer](assets/pytyon_installer.png)\n",
    "\n",
    "#### <font color=deepskyblue>Packages</font>\n",
    "\n",
    "Python comes installed with a range of packages. This is called [The Python Standard Library](https://docs.python.org/3/library/). Although these might seem like a huge number of packages, it is actually a very small selection of packages available. These cover Python's basic operations, and limiting the install to these packages reduces the size of Python. \n",
    "\n",
    "To extend the functionality of Python, you need to install additional packages. These packages can be found at the [Python Package Index](https://pypi.org/). Some of the packages we will use are:\n",
    "\n",
    "- [PyQt6](https://pypi.org/)\n",
    "- [Requests](https://pypi.org/project/requests/)\n",
    "\n",
    "To install the packages, we will be using Python's built-in package installer `pip`. You will learn how to do that in topic 4.\n",
    "\n",
    "#### <font color=deepskyblue>Virtual Environments</font>\n",
    "\n",
    "The modular nature of Pythons means that different projects will require different packages. Over time you Python install will become bloated. To prevent this we use **virtual environments**.\n",
    "\n",
    "At its core, the main purpose of Python virtual environments is to create an isolated environment for Python projects. This means that each project can have its own packages, regardless of what packages every other project has. The great thing about this is that there are no limits to the number of environments you can have since they're just directories containing a few scripts. "
   ]
  },
  {
   "cell_type": "markdown",
   "id": "e23ea2e5-893d-4639-8698-de0a761cd7a9",
   "metadata": {},
   "source": [
    "---\n",
    "\n",
    "### <font color=deepskyblue>Integrated Development Environment</font>\n",
    "\n",
    "Since Python script files are just text files, you can write Python code in Windows Notepad, or TextEdit on macOS, and this might work for small projects. Once your project starts involving several modules, each with hundreds of lines, it starts becoming unwieldy. This is where IDE (Integrated Development Environment) and Code Editors come in.\n",
    "\n",
    "An IDE (or Integrated Development Environment) is a program dedicated to software development. As the name implies, IDEs integrate several tools specifically designed for software development. These tools usually include:\n",
    "- An editor designed to handle code (with, for example, syntax highlighting and auto-completion)\n",
    "- Build, execution, and debugging tools\n",
    "- Some form of source control\n",
    "\n",
    "In contrast, a dedicated code editor can be as simple as a text editor with syntax highlighting and code formatting capabilities. Most good code editors can execute code and control a debugger. The very best ones interact with source control systems as well. Compared to an IDE, a good dedicated code editor is usually smaller and quicker, but often less feature rich.\n",
    "\n",
    "We will be using Visual Studio Code (VS Code) ([download from here](https://code.visualstudio.com/)) which is a code editor, although, we will use a range extensions to expand its capability so that is it almost and IDE.\n",
    "\n",
    "Importantly, the extended VS Code will allows us to:\n",
    "- **Save and reload code files** - allows you to save your work and reopen everything later, in the same state it was in when you left.\n",
    "- **Run code from within the environment** - you can run Python code without having to drop out of the editor.\n",
    "- **Debugging support** - allow you to step through your code as it runs, displaying variable values etc.\n",
    "- **Syntax highlighting** - uses font colours to help you quickly spot keywords, variables, and symbols in your code. This makes reading and understanding code much easier.\n",
    "- **Automatic code formatting** - little things like recognizing the colon at the end of a while or for statement, and indenting the next line, makes life easier.\n",
    "\n",
    "#### <font color=deepskyblueExtensions</font> \n",
    "\n",
    "We will be using the below extensions in VS Code to expand it's capabilities:\n",
    "\n",
    "- [Python](https://marketplace.visualstudio.com/items?itemName=ms-python.python)\n",
    "- [Pylance](https://marketplace.visualstudio.com/items?itemName=ms-python.vscode-pylance)\n",
    "- [Visual Studio IntelliCode](https://marketplace.visualstudio.com/items?itemName=VisualStudioExptTeam.vscodeintellicode)\n",
    "- [Qt for Python](https://marketplace.visualstudio.com/items?itemName=seanwu.vscode-qt-for-python)\n",
    "- [SQLite](https://marketplace.visualstudio.com/items?itemName=alexcvzz.vscode-sqlite)\n",
    "- [Rainbow CSV](https://marketplace.visualstudio.com/items?itemName=mechatroner.rainbow-csv)\n",
    "\n",
    "You can also install various icon and colour themes. For this course I will be using the extentions below, but you can use whatever you like.\n",
    "\n",
    "- [Neon Vommit Color Theme](https://marketplace.visualstudio.com/items?itemName=ghgofort.neon-vommit)\n",
    "- [Material Icon Theme](https://marketplace.visualstudio.com/items?itemName=PKief.material-icon-theme)"
   ]
  },
  {
   "cell_type": "markdown",
   "id": "df887f20-aee5-4837-aedb-b5dda5d37b09",
   "metadata": {},
   "source": [
    "---\n",
    "### <font color=deepskyblue>Version Control</font>\n",
    "\n",
    "Version control, also known as source control, is the practice of tracking and managing changes to software code. Version control systems are software tools that help software teams manage changes to source code over time.\n",
    "\n",
    "#### <font color=deepskyblue>Git</font>\n",
    "\n",
    "Git is a free and open source distributed version control system designed to handle everything from small to very large projects with speed and efficiency. Git is naturally incorperated into VS Code, but you will need to [download and install the Git client](https://git-scm.com/downloads) for it to work properly.\n",
    "\n",
    "#### <font color=deepskyblue>Github</font>\n",
    "\n",
    "[GitHub](https://github.com/) is a provider of Internet hosting for software development and version control using Git. It offers the distributed version control and source code management (SCM) functionality of Git, plus its own features. It provides access control and several collaboration features such as bug tracking, feature requests, task management, continuous integration and wikis for every project. It is commonly used to host open-source projects. As of November 2021, GitHub reports having over 73 million developers and more than 200 million repositories (including at least 28 million public repositories).\n",
    "\n",
    "We will be using GitHub to host your code for this course. If you don't already have an account, got to [GitHub](https://github.com/) and register. Use your personal email to register, as this is a tool you should be using after school, and you may wish to access the code you make during this course.\n",
    "\n",
    "To make working with GitHub easier, we will also be using [GitHub Desktop](https://desktop.github.com/) which is a GUI interface for working with GitHub. It makes using GitHub significantly easier."
   ]
  },
  {
   "cell_type": "markdown",
   "id": "43e40cb3-695f-495e-88b7-0461c05c75d7",
   "metadata": {},
   "source": [
    "### <font color=deepskyblue>Database Management System</font>\n",
    "\n",
    "Database Management Systems (DBMS) are software systems used to store, retrieve, and run queries on data. A DBMS serves as an interface between an end-user and a database, allowing users to create, read, update, and delete data in the database. \n",
    "\n",
    "In Unit 2 we will working with databases using SQL (Structured Query Language), in particular a version caller SQLite. Ultimately in Unit 3 we will designing and developing our own DBMS, but for Unit 2 we will use a lightweight DBMS called [DB Browser for SQLite](https://sqlitebrowser.org/)."
   ]
  },
  {
   "cell_type": "markdown",
   "id": "65f4bf27-4ae0-4b98-bab8-cadde3c85a50",
   "metadata": {},
   "source": [
    "### <font color=deepskyblue>Other Tools</font>\n",
    "\n",
    "#### <font color=deepskyblue>Diagrams.net</font>\n",
    "\n",
    "Throughout the course you will need to create a range of diagrams. To do this we will use diagrams.net. You can use the [online version](https://www.diagrams.net/), or you can download the [desktop version](http://get.diagrams.net/). I personally use the desktop version to save my diagrams strait to my project folders.\n",
    "\n",
    "#### <font color=deepskyblue>Qt Designer</font>\n",
    "\n",
    "[Qt Designer](https://build-system.fman.io/qt-designer-download) is a tool for quickly building graphical user interfaces with widgets from the Qt GUI framework. It gives you a simple drag-and-drop interface for laying out components such as buttons, text fields, combo boxes and more. We will be using it throughout the course."
   ]
  }
 ],
 "metadata": {
  "kernelspec": {
   "display_name": "Python 3 (ipykernel)",
   "language": "python",
   "name": "python3"
  },
  "language_info": {
   "codemirror_mode": {
    "name": "ipython",
    "version": 3
   },
   "file_extension": ".py",
   "mimetype": "text/x-python",
   "name": "python",
   "nbconvert_exporter": "python",
   "pygments_lexer": "ipython3",
   "version": "3.10.1"
  }
 },
 "nbformat": 4,
 "nbformat_minor": 5
}
