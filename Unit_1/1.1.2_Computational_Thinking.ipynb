{
 "cells": [
  {
   "cell_type": "markdown",
   "id": "bf5cd6b7-e2f4-413a-a3a8-feb4a86189ac",
   "metadata": {},
   "source": [
    "# <font color=deepskyblue>Unit 1 Topic 1: Understanding Digital Problems</font>"
   ]
  },
  {
   "cell_type": "markdown",
   "id": "e07876b0-8e1b-481a-ba81-fb01831abd68",
   "metadata": {
    "tags": []
   },
   "source": [
    "---\n",
    "## <font color=deepskyblue>1.1.2 Computational Thinking</font>\n",
    "\n",
    "- <font color=orangered>*understand methods of breaking down problems into parts using computational thinking*</font>\n",
    "\n",
    "Computational thinking describes the processes and approaches we draw on when thinking about how a computer can help us to solve complex problems and create systems. We often draw on logical reasoning, algorithms, decomposition, abstraction, and patterns and generalisation when thinking computationally.(Digital Technologies Hub 2021).\n",
    "\n",
    "### <font color=deepskyblue>Decomposition</font>\n",
    "\n",
    "<font color=green>*TLDR - Break the problem down into smaller, more manageable parts.*</font>\n",
    "\n",
    "Decomposition is the process of breaking down complex problems into smaller, more manageable parts. With decomposition, problems that \n",
    "seem overwhelming at first become much more manageable. Problems we encounter are ultimately comprised of smaller problems we can more easily address. This process of breaking down problems enables us to analyze the different aspects of them, ground our thinking, and guide ourselves to an end point.\n",
    "\n",
    "![decomposition](assets/decomposition.png)\n",
    "\n",
    "When decomposing, ask:\n",
    "- What are the different parts of the problem you are trying to solve?\n",
    "- What are the different tasks that I need to do to solve this problem?\n",
    "- Can I easily complete each of tasks? If not, how can they be broken down further?\n",
    "- If I complete all the sub-tasks, will the problem be solved?\n",
    "\n",
    "### <font color=deepskyblue>Pattern Recognition</font>\n",
    "\n",
    "<font color=green>*TLDR - Analyze data and identify similarities and connections among its different parts.*</font>\n",
    "\n",
    "As it sounds, pattern recognition is all about recognizing patterns. Specifically, with computational thinking, pattern recognition occurs \n",
    "as people study the different decomposed problems.\n",
    "\n",
    "Through analysis, students recognize patterns or connections among the different pieces of the larger problem. These patterns can be \n",
    "both shared similarities and shared differences. This concept is essential to building understanding amid dense information and goes \n",
    "well beyond recognizing patterns amongst sequences of numbers, characters, or symbols. \n",
    "\n",
    "![pattern_recognition](assets/patter_recognition.png)\n",
    "\n",
    "When recognising patterns, ask:\n",
    "- Are there any patterns that you observe?\n",
    "- Do you notice any similarities between this problem and something else you have already solved?\n",
    "- Do any of the parts of this problem share qualities?\n",
    "- Does anything repeat?\n",
    "\n",
    "### <font color=deepskyblue>Abstraction</font>\n",
    "\n",
    "<font color=green>*TLDR - Identify the most relevant information needed to solve the problem and eliminate the unnecessary details.*</font>\n",
    "\n",
    "Also called, pattern generalization, abstraction enables us to navigate complexity and find relevance and clarity at scale. Decomposition \n",
    "and pattern recognition broke down the complex, and abstraction figures out how to work with the different parts efficiently and accurately. This process occurs through filtering out the extraneous and irrelevant in order to identify what’s most important and connect each decomposed problem.\n",
    "\n",
    "Abstraction is similar to the selective filtering function in our brains that gates the neural signals with which we are constantly \n",
    "bombarded so we can make sense of our world and focus on what’s essential to us.\n",
    "\n",
    "![abstraction](assets/abstraction.png)\n",
    "\n",
    "When abstracting, ask:\n",
    "- What are you trying to solve?\n",
    "- Which details are important in solving this problem?\n",
    "- What can you leave out? What information is unnecessary?\n",
    "- Can you describe this problem as something more basic?\n",
    "\n",
    "### <font color=deepskyblue>Algorithmic Thinking</font>\n",
    "\n",
    "<font color=green>*TLDR - Develop a step-by-step process to solve the problem so that the work is replicable by humans or computers.*</font>\n",
    "\n",
    "An algorithm is a process or formula for calculating answers, sorting data, and automating tasks; and algorithmic thinking is the process for developing an algorithm.\n",
    "\n",
    "With algorithmic thinking, students endeavor to construct a step-by-step process for solving a problem so that the work is replicable by humans or computers. Algorithmic thinking is a derivative of computer science and the process to develop code and program applications. This approach automates the problem-solving process by creating a series of systematic, logical steps that intake a defined set of inputs and produce a defined set of outputs based on these. \n",
    "\n",
    "In other words, algorithmic thinking is not solving for a specific answer; instead, it solves how to build a sequential, complete, and \n",
    "replicable process that has an end point – an algorithm. Designing an algorithm helps students to both communicate and interpret clear \n",
    "instructions for a predictable, reliable output. As was said earlier, this is the crux of computational thinking.\n",
    "\n",
    "![algorithm](assets/algorithm.png)\n",
    "\n",
    "Then creating algorithms, ask:\n",
    "- What’s the first step you can take to solve this problem?\n",
    "- What are the steps that you need to do to solve this problem?\n",
    "- In what order should you complete those steps?\n"
   ]
  }
 ],
 "metadata": {
  "kernelspec": {
   "display_name": "Python 3 (ipykernel)",
   "language": "python",
   "name": "python3"
  },
  "language_info": {
   "codemirror_mode": {
    "name": "ipython",
    "version": 3
   },
   "file_extension": ".py",
   "mimetype": "text/x-python",
   "name": "python",
   "nbconvert_exporter": "python",
   "pygments_lexer": "ipython3",
   "version": "3.10.0"
  }
 },
 "nbformat": 4,
 "nbformat_minor": 5
}
