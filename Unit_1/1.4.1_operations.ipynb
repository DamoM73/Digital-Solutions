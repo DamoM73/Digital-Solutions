{
 "cells": [
  {
   "cell_type": "markdown",
   "id": "2fe73de4-f3f8-44bb-a237-4f55f424a222",
   "metadata": {},
   "source": [
    "# <font color=darkorange>Topic 4: Programmed Solutions</font>"
   ]
  },
  {
   "cell_type": "markdown",
   "id": "b9d0adc7-d6c0-438d-8765-69e786efdf5d",
   "metadata": {},
   "source": [
    "## <font color=deepskyblue>1.4.1 Operations</font>\n",
    "\n",
    "- <font color=orangered>*apply the use of operators - arithmetic: +, \\–, \\*, /, integer, modulus, exponent*</font>\n",
    "- <font color=orangered>*apply the use of operators - comparison: \\<, \\>, \\<=, \\>=, equal, not equal*</font>\n",
    "- <font color=orangered>*apply the use of operators - logical: AND, OR, NOT*</font>\n",
    "\n",
    "<font color=green>*TLDR - d*</font>\n",
    "    \n",
    "Operators are used to perform operations on variables and values.\n",
    "    \n",
    "Python divides the operators in the following groups:\n",
    "- Arithmetic operators\n",
    "- Assignment operators\n",
    "- Comparison operators\n",
    "- Logical operators\n",
    "- Identity operators\n",
    "- Membership operators\n",
    "- Bitwise operators"
   ]
  },
  {
   "cell_type": "markdown",
   "id": "080f279c-c766-46bf-95f9-7d8b7c1e3bae",
   "metadata": {},
   "source": [
    "---\n",
    "### <font color=deepskyblue>Arithmetic Operators</font>\n",
    "\n",
    "Arithmetic operators are used with numeric values to perform common mathematical operations.\n",
    "\n",
    "|Operator|Name|Example|\n",
    "|:-------|:---|:------|\n",
    "| + |Addition|x + y|\n",
    "| - |Subtraction|x - y|\n",
    "| * |Multiplication|x * y|\n",
    "| / |Division|x / y|\n",
    "| % |Modulus|x % y|\n",
    "| ** |Exponentiation|x ** y|\n",
    "|// |Floor division|x // y|\n",
    "\n",
    "In Python addition, subtraction, and multiplication are all strait forward and do exactly like you would expect. Note: that brackets `(` and `)` work the same as they would in mathematical equations. \n",
    "\n",
    "It is worth checking out how division, modulus, floor division and exponentiation work.\n",
    "\n",
    "#### <font color=deepskyblue>Division</font>\n",
    "\n",
    "Division `/` will always give you a result as a `float`, even if the result is a whole number."
   ]
  },
  {
   "cell_type": "code",
   "execution_count": null,
   "id": "9c165b0e-74ac-4df5-906d-9cad6f4fa0b8",
   "metadata": {},
   "outputs": [],
   "source": [
    "print(10 / 2)\n",
    "print(10 / 4)"
   ]
  },
  {
   "cell_type": "markdown",
   "id": "7749eec4-ae8e-4cc3-84c2-bfb79146a0b7",
   "metadata": {},
   "source": [
    "#### <font color=deepskyblue>Floor division</font>\n",
    "\n",
    "Floor division `//` will give you an `int` whole number component of a division calculation, even if the actual result is not whole numbers."
   ]
  },
  {
   "cell_type": "code",
   "execution_count": null,
   "id": "8867d976-5963-490b-a79b-b8d314a419ab",
   "metadata": {},
   "outputs": [],
   "source": [
    "print(10 // 2)\n",
    "print(10 // 4)"
   ]
  },
  {
   "cell_type": "markdown",
   "id": "aa642370-0b7c-4b55-967a-0ec5b6a5c54f",
   "metadata": {},
   "source": [
    "#### <font color=deepskyblue>Modulus</font>\n",
    "\n",
    "Modulus `%` will give you an 'int' of the remainder component of a division calculation, even if the actual result is in whole numbers."
   ]
  },
  {
   "cell_type": "code",
   "execution_count": null,
   "id": "4475a545-bcd3-4706-b12c-3a56d150aba7",
   "metadata": {},
   "outputs": [],
   "source": [
    "print(10 % 2)\n",
    "print(10 % 4)"
   ]
  },
  {
   "cell_type": "markdown",
   "id": "0c7f4459-9e22-40d8-8bc0-b07eb9c49cb8",
   "metadata": {},
   "source": [
    "Modulus can be confusing, but you use it all the time without thinking about it.\n",
    "\n",
    "For example: how many minutes and seconds in 140 secs?"
   ]
  },
  {
   "cell_type": "code",
   "execution_count": null,
   "id": "f81a7035-a713-42f5-add7-12d146d6816c",
   "metadata": {},
   "outputs": [],
   "source": [
    "minutes = 140 // 60\n",
    "seconds = 140 % 60\n",
    "\n",
    "print(f\"{minutes} minutes and {seconds} seconds\")"
   ]
  },
  {
   "cell_type": "markdown",
   "id": "63827a05-b6f0-4e56-bcb9-6d3d33c006fd",
   "metadata": {},
   "source": [
    "---\n",
    "### <font color=deepskyblue>Assignment Operators</font>\n",
    "\n",
    "Assignment operators are used to assign values to variables.\n",
    "\n",
    "|Operator|Example|Same As|\n",
    "|:-------|:------|:------|\n",
    "|= |x = 5|x = 5|\n",
    "| += |x += 3|x = x + 3|\n",
    "| -= |x -= 3|x = x - 3|\n",
    "| \\*= |  x \\*= 3 |x = x * 3|\n",
    "| /= |x /= 3|x = x / 3|\n",
    "| %= |x %= 3|x = x % 3|\n",
    "| //= |x //= 3|x = x // 3|\n",
    "| **= |x **= 3|x = x ** 3|"
   ]
  },
  {
   "cell_type": "markdown",
   "id": "1d7172f3-7e1d-4a3e-b3f4-e61ce5804211",
   "metadata": {},
   "source": [
    "---\n",
    "### <font color=deepskyblue>Comparison Operators</font>\n",
    "\n",
    "Comparison operators are used to compare two values.\n",
    "\n",
    "|Operator|Name|Example|\n",
    "|:-------|:---|:------|\n",
    "| == |Equal|x == y|\n",
    "|!=|Not equal|x != y|\n",
    "|>|Greater than|x > y|\n",
    "|<|Less than|x < y|\n",
    "|>=|Greater than or equal to|x >= y|\n",
    "|<=|Less than or equal to|x <= y|\n"
   ]
  },
  {
   "cell_type": "markdown",
   "id": "9a2e3770-5e13-4a22-a93e-f4e5a96b98c2",
   "metadata": {},
   "source": [
    "---\n",
    "### <font color=deepskyblue>Logical Operators</font>\n",
    "\n",
    "Logical operators are used to combine conditional statements.\n",
    "\n",
    "|Operator|Description|Example|\n",
    "|:-------|:----------|:------|\n",
    "|and|Returns True if both statements are true|x < 5 and  x < 10|\n",
    "|or|Returns True if one of the statements is true|x < 5 or x < 4|\n",
    "|not|Reverse the result, returns False if the result is true|not(x < 5 and x < 10)|"
   ]
  },
  {
   "cell_type": "markdown",
   "id": "96e8a2f2-26da-49dd-9477-a13c3f224b5b",
   "metadata": {},
   "source": [
    "---\n",
    "### <font color=deepskyblue>Identity Operators</font>\n",
    "\n",
    "Identity operators are used to compare the objects, not if they are equal, but if they are actually the same object, with the same memory location.\n",
    "\n",
    "|Operator|Description|Example|\n",
    "|:-------|:----------|:------|\n",
    "|is|Returns True if both variables are the same object|x is y|\n",
    "|is not|Returns True if both variables are not the same object|x is not y|"
   ]
  },
  {
   "cell_type": "markdown",
   "id": "e4a3fd30-47ed-4a63-9899-5a7d32f36448",
   "metadata": {},
   "source": [
    "---\n",
    "### <font color=deepskyblue>Membership Operators</font>\n",
    "\n",
    "Membership operators are used to test if a sequence is presented in an object.\n",
    "\n",
    "|Operator|Description|Example|\n",
    "|:-------|:----------|:------|\n",
    "|in|Returns True if a sequence with the specified value is present in the object|x in y|\n",
    "|not in|Returns True if a sequence with the specified value is not present in the object|x not in y|"
   ]
  },
  {
   "cell_type": "markdown",
   "id": "a5a81899-331a-4363-97a2-ffc031b0d553",
   "metadata": {},
   "source": [
    "---\n",
    "### <font color=deepskyblue>Bitwise Operators</font>\n",
    "\n",
    "Bitwise operators are used to compare (binary) numbers. Realistically we are not going to use these, but it worth knowing they exist in case you come across them in some code.\n",
    "\n",
    "|Operator|Name|Description|\n",
    "|:-|:-|:-|\n",
    "|&|AND|Sets each bit to 1 if both bits are 1|\n",
    "|/||OR|Sets each bit to 1 if one of two bits is 1|\n",
    "|^|XOR|Sets each bit to 1 if only one of two bits is 1|\n",
    "|~|NOT|Inverts all the bits|\n",
    "|<<|Zero fill left shift|Shift left by pushing zeros in from the right and let the leftmost bits fall off|\n",
    "|>>|Signed right shift|Shift right by pushing copies of the leftmost bit in from the left, and let the rightmost bits fall off|"
   ]
  }
 ],
 "metadata": {
  "kernelspec": {
   "display_name": "Python 3 (ipykernel)",
   "language": "python",
   "name": "python3"
  },
  "language_info": {
   "codemirror_mode": {
    "name": "ipython",
    "version": 3
   },
   "file_extension": ".py",
   "mimetype": "text/x-python",
   "name": "python",
   "nbconvert_exporter": "python",
   "pygments_lexer": "ipython3",
   "version": "3.10.1"
  }
 },
 "nbformat": 4,
 "nbformat_minor": 5
}
