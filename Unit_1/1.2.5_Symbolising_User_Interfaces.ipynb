{
 "cells": [
  {
   "cell_type": "markdown",
   "id": "f3cb42bb-d05d-4ee9-abaa-e2f6dfcf11bc",
   "metadata": {},
   "source": [
    "# <font color=darkorange>Unit 1 Topic 2: User Experience and Interfaces</font>"
   ]
  },
  {
   "cell_type": "markdown",
   "id": "0cc66c18-032e-4171-ba78-38d1aa661a70",
   "metadata": {},
   "source": [
    "## <font color=deepskyblue>1.2.5 Symbolising User Interfaces</font>\n",
    "\n",
    "- <font color=orangered>*symbolise ideas for a user interface using sketches, diagrams, schematic diagrams or mock-ups*</font>\n",
    "\n",
    "<font color=green>*TLDR - the steps involved in designing a UI: sketch, wireframe, mockup, prototype, and application interface flowchart*</font>"
   ]
  },
  {
   "cell_type": "markdown",
   "id": "428812d4-6c9c-4949-aa72-936f93e48adb",
   "metadata": {},
   "source": [
    "---\n",
    "### <font color=deepskyblue>Sketching</font>\n",
    "\n",
    "User Interface sketching refers to sketching out the basics of a user interface, most often using pen and paper. It occurs before getting into wireframing, prototyping and coding. Sketches are quick and dirty. Don't worry about the specifics of design or functionality in a UI sketch. A UI sketch should simply serve to help you eliminate bad ideas and brainstorm good ideas about how to bring your proposed product to the screen. The sketch should help you translate idea to interface in the minimum possible time. At the end of the UI sketching process you should know that you've figured out the absolute best way to bring your product to the screen.\n",
    "\n",
    "![ui sketched](assets/ui_sketch.jpg)"
   ]
  },
  {
   "cell_type": "markdown",
   "id": "813cd34c-8e77-491e-b25d-10d33a3465d9",
   "metadata": {},
   "source": [
    "---\n",
    "### <font color=deepskyblue>Wireframes</font>\n",
    "\n",
    "A wireframe gives you a rough idea of the input, how it is processed, how the screens will be presented, how the elements will look etc. A wireframe tells you what happens when an action is taken using the app. If there is content on the screen, wireframe gives you an idea of how that data or element will be presented in the app. The goal of a wireframe is to quickly and easily communicate:\n",
    "\n",
    "- The contents of the page\n",
    "- The page structure and layout\n",
    "- The app's functions\n",
    "\n",
    "In other words, a wireframe describes the basic structure, functions, and content of the page.\n",
    "\n",
    "![ui wireframe](assets/wireframe-example.png)"
   ]
  },
  {
   "cell_type": "markdown",
   "id": "06570b87-c5bc-481d-8c0c-42cc3b4d2f70",
   "metadata": {},
   "source": [
    "---\n",
    "### <font color=deepskyblue>Mockup</font>\n",
    "\n",
    "The wireframe shows the basic structure with the contents of the app and the functions, whereas a mockup adds design, color, style, and typography to it. A mockup shows a realistic picture of how things will shape up in the end. The visual representation of the mockup will show what all will be covered in the final picture.\n",
    "\n",
    "![ui_mockup](assets/mockup-example.png)"
   ]
  },
  {
   "cell_type": "markdown",
   "id": "7c210c7f-c3f0-4e1f-bbf8-c6bac696e93f",
   "metadata": {},
   "source": [
    "---\n",
    "### <font color=deepskyblue>Prototype</font>\n",
    "\n",
    "A prototype is a final visual image of the app. The prototype acts just like the app to some extent. The code used for development is not used for creating a prototype, but it can still have clickable buttons and other components of a real app and may demonstrate some of the functionality."
   ]
  },
  {
   "cell_type": "markdown",
   "id": "fab7b3e3-f770-4b77-85cf-9c90429970fb",
   "metadata": {},
   "source": [
    "---\n",
    "### <font color=deepskyblue>Application interface flowchart</font>\n",
    "\n",
    "An application interface flowchart connects the screens of an application together to indicate the flow from one screen to another as a result of user interactions. Interactions are sometime written on the flowlines.\n",
    "\n",
    "![ui_flowchart](assets/ui_flowchart.jpg)"
   ]
  }
 ],
 "metadata": {
  "kernelspec": {
   "display_name": "Python 3 (ipykernel)",
   "language": "python",
   "name": "python3"
  },
  "language_info": {
   "codemirror_mode": {
    "name": "ipython",
    "version": 3
   },
   "file_extension": ".py",
   "mimetype": "text/x-python",
   "name": "python",
   "nbconvert_exporter": "python",
   "pygments_lexer": "ipython3",
   "version": "3.10.0"
  }
 },
 "nbformat": 4,
 "nbformat_minor": 5
}
