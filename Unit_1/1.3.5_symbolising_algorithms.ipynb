{
 "cells": [
  {
   "cell_type": "markdown",
   "id": "4b60bee2-a40b-43df-95e8-2eaad124455b",
   "metadata": {},
   "source": [
    "# <font color=deepskyblue>Topic 3: Algorithms and Programming Techniques</font>"
   ]
  },
  {
   "cell_type": "markdown",
   "id": "bb8e1c70-6135-43cd-a79f-f08eab33e83d",
   "metadata": {},
   "source": [
    "---\n",
    "## <font color=deepskyblue>1.3.5 Symbolising Algorithms</font>\n",
    "\n",
    "- <font color=orangered>*symbolise algorithms and interrelationships with sketches and diagrams*</font>\n",
    "\n",
    "<font color=green>*TLDR - *</font>"
   ]
  },
  {
   "cell_type": "code",
   "execution_count": null,
   "id": "04a4e30a-7fd2-42db-88b0-65046adaef6b",
   "metadata": {},
   "outputs": [],
   "source": []
  }
 ],
 "metadata": {
  "kernelspec": {
   "display_name": "Python 3 (ipykernel)",
   "language": "python",
   "name": "python3"
  },
  "language_info": {
   "codemirror_mode": {
    "name": "ipython",
    "version": 3
   },
   "file_extension": ".py",
   "mimetype": "text/x-python",
   "name": "python",
   "nbconvert_exporter": "python",
   "pygments_lexer": "ipython3",
   "version": "3.10.1"
  }
 },
 "nbformat": 4,
 "nbformat_minor": 5
}
