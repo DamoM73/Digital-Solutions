{
 "cells": [
  {
   "cell_type": "markdown",
   "id": "f3cb42bb-d05d-4ee9-abaa-e2f6dfcf11bc",
   "metadata": {},
   "source": [
    "# <font color=darkorange>Unit 1 Topic 2: User Experience and Interfaces</font>"
   ]
  },
  {
   "cell_type": "markdown",
   "id": "b46f90fc-8e05-47d1-949e-8d85b48136be",
   "metadata": {},
   "source": [
    "## <font color=deepskyblue>1.2.4 User Interfaces</font>\n",
    "\n",
    "- <font color=orangered>*explore existing user interfaces to identify pitfalls and useful solutions*</font>\n",
    "- <font color=orangered>*explore existing user interfaces to determine how user characteristics influence the user-interface requirements and user experience for problems and solutions in relation to the useability principles*</font>\n",
    "- <font color=orangered>*evaluate and make recommendations about user interfaces based on useability principles*</font>\n",
    "\n",
    "<font color=green>*TLDR - bad UI design has a disproportionate negative impact on a product, avoid it at all costs*</font>\n",
    "\n",
    "Bad interfaces may cause users to:\n",
    "- need more time for performing their tasks\n",
    "- make more errors\n",
    "- feel dissatisfied\n",
    "- need more time for learning how to use the software\n",
    "- not learn/use the full functionality of the software\n",
    "- (if given a choice) refrain from using the software\n",
    "\n",
    "Good interface design therefore is important for any kind of interactive software."
   ]
  },
  {
   "cell_type": "markdown",
   "id": "b33c67c3-237b-47c8-9022-59f5c8484f82",
   "metadata": {},
   "source": [
    "---\n",
    "### <font color=deepskyblue>Good UI Ideas</font>\n",
    "- [10 Rules of Good UI Design to Follow On Every Web Design Project](https://www.elegantthemes.com/blog/resources/10-rules-of-good-ui-design-to-follow-on-every-web-design-project)\n",
    "- [What Makes a Good User Interface? 13 UI Design Principles](https://inkbotdesign.com/what-makes-a-good-user-interface/)\n",
    "- [What Are the 10 Rules of Good UI Design? What Is Good UI/UX Design?](https://medium.com/@OPTASY.com/what-are-the-10-rules-of-good-ui-design-what-is-good-ui-ux-design-3ecc0d575c8f)"
   ]
  },
  {
   "cell_type": "markdown",
   "id": "cd35fef9-c7cf-4c03-9e9e-33823272110c",
   "metadata": {},
   "source": [
    "---\n",
    "### <font color=deepskyblue>Examples of Good UI</font>\n",
    "- [9 Inspiring Examples Of Great UI Design](https://careerfoundry.com/en/blog/ui-design/inspirational-ui-design-examples/)\n",
    "- [8 Websites With Really Awesome User Interface (UI) Design](https://careerfoundry.com/en/blog/ui-design/8-sites-with-great-ui/)\n",
    "- [awwwards](https://www.awwwards.com/)"
   ]
  },
  {
   "cell_type": "markdown",
   "id": "c5cc9339-108f-43f6-b433-43a44a4e0413",
   "metadata": {},
   "source": [
    "---\n",
    "### <font color=deepskyblue>Bad UI Ideas</font>\n",
    "- [10 Common UI Design Mistakes (And How To Avoid Them)](https://careerfoundry.com/en/blog/ui-design/common-ui-design-mistakes/)\n",
    "- [10 painful UI fails (and what you can learn from them)](https://www.creativebloq.com/features/10-painful-ui-fails-and-what-you-can-learn-from-them)\n",
    "- [User Interface Design: 10 Principles Learned from Painful Mistakes](https://boagworld.com/design/user-interface-design/)"
   ]
  },
  {
   "cell_type": "markdown",
   "id": "27fa874a-903c-4c08-81c6-14f645a5fefa",
   "metadata": {},
   "source": [
    "---\n",
    "### <font color=deepskyblue>Examples of Bad UI</font>\n",
    "- [User Inyerface](https://userinyerface.com/)\n",
    "- [10 Classic UX Design Fails That Teach Us How Not To Do UX](https://careerfoundry.com/en/blog/ux-design/10-classic-ux-design-fails/)\n",
    "- [59 Hilariously Infuriating Examples Of User Interface That Even Satan Himself Couldn’t Come Up With](https://www.boredpanda.com/funny-worst-input-fields/?utm_source=google&utm_medium=organic&utm_camp)"
   ]
  }
 ],
 "metadata": {
  "kernelspec": {
   "display_name": "Python 3 (ipykernel)",
   "language": "python",
   "name": "python3"
  },
  "language_info": {
   "codemirror_mode": {
    "name": "ipython",
    "version": 3
   },
   "file_extension": ".py",
   "mimetype": "text/x-python",
   "name": "python",
   "nbconvert_exporter": "python",
   "pygments_lexer": "ipython3",
   "version": "3.10.1"
  }
 },
 "nbformat": 4,
 "nbformat_minor": 5
}
