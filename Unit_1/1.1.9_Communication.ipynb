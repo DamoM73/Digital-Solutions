{
 "cells": [
  {
   "cell_type": "markdown",
   "id": "bf5cd6b7-e2f4-413a-a3a8-feb4a86189ac",
   "metadata": {},
   "source": [
    "# <font color=deepskyblue>Unit 1 Topic 1: Understanding Digital Problems</font>"
   ]
  },
  {
   "cell_type": "markdown",
   "id": "cdf43069-fe5a-48c4-98ea-3ccef9375c4b",
   "metadata": {},
   "source": [
    "---\n",
    "## <font color=deepskyblue>Communication</font>\n",
    "\n",
    "- <font color=orangered>communicate using digital technologies–specific language</font>\n",
    "- <font color=orangered>communicate using language conventions, textual features, such as annotations, paragraphs and sentences, and referencing conventions to convey information to particular audiences about digital solutions</font>\n",
    "- <font color=orangered>communicate using sketches or diagrams to present information and ideas about the problem and programmed digital solutions</font>\n",
    "- <font color=orangered>communicate using the modes of visual, written and spoken communication to present data and information about digital solutions</font>\n",
    "\n",
    "<font color=green>*TLDR - Digital solutions has specific communication requirements that you need to follow.*</font>\n",
    "\n",
    "### <font color=deepskyblue>Technology Specific Language</font>\n",
    "\n",
    "Below is some of Topic 1's technology specific language. You should aim to use these throughout your assessments:\n",
    "\n",
    "- **abstraction** - identify the relevant information and eliminate the unnecessary details (eg. the get_password method **abstracts** the processes of opening the passwords file, reading the content, matching the username and returning the password by hiding these processes).\n",
    "- **algorithmic thinking** - a step-by-step process to solve the problem (eg. the get_password methods' **algorithm** is opening the passwords file, reading the content, matching the username, then returning the password).\n",
    "- **constraint** - a restriction on the degree of freedom you have in providing a solution (eg. **constraints** placed by the client on the project include using producing a desktop application and being functional using only a keyboard).\n",
    "- **decomposition** - breaking down complex problems into more manageable parts (eg. the get_password method **decomposes** into opening the passwords file, reading the content, matching the username and returning the password).\n",
    "- **economic impact** - impacts that effect an economic system at a local, national or global level (eg. the Covid Check-in app had an **economic impact** by minimising lock-downs and allowing businesses to open more often).\n",
    "- **environmental impacts** - impacts that effect living and nonliving natural systems, including ecosystems, land, air and water (eg. the Containers For Change solution has had an **environmental impact** by encouraging users to recycle bottles.\n",
    "- **functional requirements** - define the specific behaviors, responses, information, rules, or operations of a solution (eg. having an user login is one of the **functional requirements**).\n",
    "- **input** - how data enters a system (eg. The use of a check-box restricts **input** options, reducing user error.).\n",
    "- **limitation** - concerned with what the environment can actually do, or what does the development environment allow to occur (eg. the application must be developed using Python and run on Windows OS).\n",
    "- **nonfunctional requirements** - specify the manner or the environment in which a solution is intended to operate (eg. following the Web Content Accessiblity Guidelines (WCAG) is one of the **nonfunctional requirements**).\n",
    "- **output** - how data exits a system (eg. The get_password method will **output** the password for the provided username).\n",
    "- **pattern recognition** - analyzing data and identifying similarities and connections among its different parts (eg. the methods for the number buttons follow a similar **pattern**, hence they can consolidated into one method).\n",
    "- **personal impacts** - impacts that change the way that a person does something or alters their opinions, knowledge or wellbeing (eg. the Covid Check-in app has a **personal impact** of informing users if they have been in an exposure site).\n",
    "- **prescribed criteria** - those criteria that are provided or placed on a project by the client (eg. the prescribe criteria include completion within six weeks, user login with a capacity to create new accounts and reset passwords, and a UI that follows the (WCAG)).\n",
    "- **process** - how data is manipulated (eg. The inputted text will be **processed** to ensure it is valid).\n",
    "- **scope** - the scope defines the boundaries of the system (or problem) that is being addressed (eg. the scope of the Covid Check-in App has been expanded to also include the user's vaccination status).\n",
    "- **self-determined criteria** are any criteria that are developed and are not prescribed (eg. self-determined criteria include storing information in a database, hashing passwords, and will be programmed using python).\n",
    "- **social impacts** - impacts that alter the well-being of the surrounding and wider community (eg. the Covid Check-in App had a **social impact** by assiting contact tracers to minimise the spread of Covid19 in Queensland). \n",
    "- **user interface (UI)** - the point of human-computer interaction and communication in a device (eg. the **UI** will consist of a main screen and two dialogue boxes).\n",
    "- **user's needs** - express people's goals, values and aspirations (eg. implementing a username and password system, meets the **user's need** for security).\n",
    "- **user persona** - fictional representations of the primary users that guide design decisions (eg. the UNI colours take into account the Michelle **persona's** colour blindness)\n",
    "\n",
    "### <font color=deepskyblue>Annotating</font>\n",
    "\n",
    "Throughout the EDGE process you will need comment on visual elements. The correct way to do this is through annotations. \n",
    "\n",
    "Annotation has three elements:\n",
    "1. An image you wish to comment on\n",
    "2. A text box commenting on a feature of the image\n",
    "3. An arrow pointing from the text box to the feature that it is commenting on.\n",
    "\n",
    "Below is an example of annotation in relation to visual communication which we will address in Topic 2.\n",
    "\n",
    "![annotation](assets/annotation.png)\n",
    "\n",
    "### <font color=deepskyblue>Referencing</font>\n",
    "\n",
    "The College uses APA Style referencing, and you will be expected to use this with you assignment. The College has provided you with \n",
    "[CiteMaker](https://www.citemaker.com/tmbc.qld/apa7/) account. \n",
    "\n",
    "Make sure that you keep a record of everything that you access to complete your assessments (including this resources) and reference it."
   ]
  }
 ],
 "metadata": {
  "kernelspec": {
   "display_name": "Python 3 (ipykernel)",
   "language": "python",
   "name": "python3"
  },
  "language_info": {
   "codemirror_mode": {
    "name": "ipython",
    "version": 3
   },
   "file_extension": ".py",
   "mimetype": "text/x-python",
   "name": "python",
   "nbconvert_exporter": "python",
   "pygments_lexer": "ipython3",
   "version": "3.10.0"
  }
 },
 "nbformat": 4,
 "nbformat_minor": 5
}
