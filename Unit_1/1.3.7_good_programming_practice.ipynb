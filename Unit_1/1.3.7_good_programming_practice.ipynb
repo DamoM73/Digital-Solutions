{
 "cells": [
  {
   "cell_type": "markdown",
   "id": "4b60bee2-a40b-43df-95e8-2eaad124455b",
   "metadata": {},
   "source": [
    "# <font color=deepskyblue>Topic 3: Algorithms and Programming Techniques</font>"
   ]
  },
  {
   "cell_type": "markdown",
   "id": "3184bd1d-a05c-47d8-b978-a5752de44dba",
   "metadata": {},
   "source": [
    "---\n",
    "## <font color=deepskyblue>1.3.7 Good Programming Practice</font>\n",
    "\n",
    "- <font color=orangered>*recognise, describe and use good programming practices, including dependability, efficiency, testing, debugging, error correction, coding conventions including commenting, consistent naming conventions, code simplicity and portability*</font>\n",
    "- <font color=orangered>*communicate and clarify knowledge and understanding about the purpose of code statements using code comments.*</font>\n",
    "- <font color=orangered>*explore the use of a procedural text-based language for analysing and critiquing the end result of code statements using input or output evidence, i.e. runtime evidence*</font>\n",
    "\n",
    "<font color=green>*TLDR - *</font>\n",
    "\n",
    "### <font color=deepskyblue>Dependability</font>\n",
    "\n",
    "In systems engineering, dependability is a measure of a system's reliability, maintainability.\n",
    "\n",
    "- **maintainability** - easy-to-read code that is easy to dissect, so that parts relating to a required change are easy to modify without risking a chain reaction of errors in dependant modules.\n",
    "- **reliability** - the probability of a program producing an error or failing to process a task;\n",
    "    - In Digital Solutions, testing and useability considerations contribute to reliability. \n",
    "    - For example, predicting where errors are likely to occur (whether user or systems related) can inform mindful use programming constructs.\n",
    "\n",
    "### <font color=deepskyblue>Efficiency</font>\n",
    "\n",
    "A situation in which a system or machine uses minimal resources such as time and processing power while still achieving its goals; there are two types of efficiency:\n",
    "- **algorithmic efficiency** - refers to the reliability, speed and programming methodology for developing succinct structures within an application\n",
    "- **code efficiency** - is directly linked with algorithmic efficiency and the speed of runtime execution for software, and is the key element in ensuring high performance; its goal is to reduce resource consumption and completion time as much as possible with minimum risk to the business or operating environment, e.g. using a FOR loop instead of repetitive IF, THEN and ELSE statements where appropriate.\n",
    "\n",
    "\n",
    "\n",
    "### <font color=deepskyblue>Testing</font>\n",
    "\n",
    "\n",
    "### <font color=deepskyblue>Debugging</font>\n",
    "\n",
    "\n",
    "### <font color=deepskyblue>Error Correction</font>\n",
    "\n",
    "\n",
    "### <font color=deepskyblue>Coding Conventions</font>\n",
    "\n",
    "#### <font color=deepskyblue>Commenting</font>\n",
    "\n",
    "#### <font color=deepskyblue>Naming Conventions</font>\n",
    "\n",
    "#### <font color=deepskyblue>Code Simplicity</font>\n",
    "\n",
    "#### <font color=deepskyblue>Portability</font>"
   ]
  }
 ],
 "metadata": {
  "kernelspec": {
   "display_name": "Python 3 (ipykernel)",
   "language": "python",
   "name": "python3"
  },
  "language_info": {
   "codemirror_mode": {
    "name": "ipython",
    "version": 3
   },
   "file_extension": ".py",
   "mimetype": "text/x-python",
   "name": "python",
   "nbconvert_exporter": "python",
   "pygments_lexer": "ipython3",
   "version": "3.10.1"
  }
 },
 "nbformat": 4,
 "nbformat_minor": 5
}
