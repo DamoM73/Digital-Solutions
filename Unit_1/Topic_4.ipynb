{
 "cells": [
  {
   "cell_type": "markdown",
   "id": "2fe73de4-f3f8-44bb-a237-4f55f424a222",
   "metadata": {},
   "source": [
    "# <font color=deepskyblue>Topic 4: Programmed Solutions</font>"
   ]
  },
  {
   "cell_type": "markdown",
   "id": "b9d0adc7-d6c0-438d-8765-69e786efdf5d",
   "metadata": {},
   "source": [
    "---\n",
    "## <font color=deepskyblue>Operations</font>\n",
    "\n",
    "- <font color=orangered>*apply the use of operators - arithmetic: +, \\–, \\*, /, integer, modulus, exponent*</font>\n",
    "- <font color=orangered>*apply the use of operators - comparison: \\<, \\>, \\<=, \\>=, equal, not equal*</font>\n",
    "- <font color=orangered>*apply the use of operators - logical: AND, OR, NOT*</font>\n",
    "\n",
    "<font color=green>*TLDR - d*</font>\n",
    "\n",
    "### <font color=deepskyblue>Arithmetic</font>\n",
    "\n",
    "   \n",
    "### <font color=deepskyblue>Comparison</font>\n",
    "    \n",
    "    \n",
    "### <font color=deepskyblue>Logical</font>"
   ]
  },
  {
   "cell_type": "markdown",
   "id": "7a3b7c04-8e5b-4b9b-9bdc-26780f3fb27b",
   "metadata": {},
   "source": [
    "---\n",
    "## <font color=deepskyblue>Generating Code</font>\n",
    "\n",
    "- <font color=orangered>*output information to the screen in text-based or visual formats*</font>\n",
    "- <font color=orangered>*generate components of a solution by using existing code or writing new code statements*</font>\n",
    "- <font color=orangered>*generate modified code in response to new or existing information*</font>\n",
    "- <font color=orangered>*generate functions/procedures with efficient and maintainable code that includes reuseable code blocks or statements and responses to keyboard and mouse events*</font>\n",
    "- <font color=orangered>*generate selection structures, counted loops, while loops, and single, multi-branch and nested conditional logic statements*</font>\n",
    "- <font color=orangered>*generate local and global variables*</font>\n",
    "- <font color=orangered>*generate a prototype digital solution in response to a problem*</font>\n",
    "- <font color=orangered>*test inputs, outputs and processes*</font>\n",
    "\n",
    "<font color=green>*TLDR - *</font>\n",
    "\n",
    "### <font color=deepskyblue>Importing Libraries</font>\n",
    "\n",
    "\n",
    "### <font color=deepskyblue>Model View Controller</font>\n",
    "\n",
    "\n",
    "### <font color=deepskyblue>Testing</font>"
   ]
  },
  {
   "cell_type": "markdown",
   "id": "e47280db-bbdd-47d0-9fea-54ebcf6c2f96",
   "metadata": {},
   "source": [
    "---\n",
    "## <font color=deepskyblue>Evaluating Code</font>\n",
    "\n",
    "- <font color=orangered>*evaluate and make recommendations about the use of programming language rules and syntax for a given problem*</font>\n",
    "- <font color=orangered>*evaluate and make recommendations about algorithmic steps using debugging processes, e.g. desk checks*</font>\n",
    "- <font color=orangered>*evaluate and make recommendations about the effectiveness of algorithms*</font>\n",
    "- <font color=orangered>*evaluate and make recommendations about the end result of code statements using input or output evidence*</font>\n",
    "- <font color=orangered>*evaluate and make recommendations about the user interface based on useability principles including accessibility, effectiveness, safety, utility and learnability*</font>\n",
    "\n",
    "<font color=green>*TLDR - *</font>\n",
    "\n",
    "### <font color=deepskyblue>Language Rules and Syntax</font>\n",
    "\n",
    "\n",
    "### <font color=deepskyblue>Desk Checking</font>\n",
    "\n",
    "\n",
    "### <font color=deepskyblue>Effectiveness</font>\n",
    "\n",
    "\n",
    "### <font color=deepskyblue>User Interface</font>\n",
    "\n",
    "\n",
    "### <font color=deepskyblue>Components</font>\n"
   ]
  },
  {
   "cell_type": "markdown",
   "id": "1a96c518-cb98-4c5b-9e53-0638d582aed3",
   "metadata": {},
   "source": [
    "---\n",
    "## <font color=deepskyblue>Evaluating Solution</font>\n",
    "\n",
    "- <font color=orangered>*evaluate and make recommendations about the solution and its components by testing to identify errors using computational thinking processes, e.g. debugging techniques*</font>\n",
    "- <font color=orangered>*evaluate and make recommendations about the personal, social and economic impacts of the solution*</font>\n",
    "- <font color=orangered>*evaluate and make recommendations about the implemented solution against prescribed criteria, maintainability and useability principles.*</font>\n",
    "\n",
    "<font color=green>*TLDR - *</font>\n",
    "\n",
    "### <font color=deepskyblue>Solution</font>\n",
    "\n",
    "\n",
    "### <font color=deepskyblue>Impacts</font>\n",
    "\n",
    "\n",
    "### <font color=deepskyblue>Criteria</font>\n",
    "\n",
    "\n",
    "### <font color=deepskyblue>Maintainability</font>\n",
    "\n",
    "\n",
    "### <font color=deepskyblue>Useability Principles</font>"
   ]
  },
  {
   "cell_type": "code",
   "execution_count": null,
   "id": "725c0316-23ca-4f1b-bcf3-9cbb66f1691a",
   "metadata": {},
   "outputs": [],
   "source": []
  }
 ],
 "metadata": {
  "kernelspec": {
   "display_name": "Python 3 (ipykernel)",
   "language": "python",
   "name": "python3"
  },
  "language_info": {
   "codemirror_mode": {
    "name": "ipython",
    "version": 3
   },
   "file_extension": ".py",
   "mimetype": "text/x-python",
   "name": "python",
   "nbconvert_exporter": "python",
   "pygments_lexer": "ipython3",
   "version": "3.10.1"
  }
 },
 "nbformat": 4,
 "nbformat_minor": 5
}
